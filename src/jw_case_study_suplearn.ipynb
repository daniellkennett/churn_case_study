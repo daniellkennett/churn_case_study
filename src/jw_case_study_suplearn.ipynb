{
 "metadata": {
  "language_info": {
   "codemirror_mode": {
    "name": "ipython",
    "version": 3
   },
   "file_extension": ".py",
   "mimetype": "text/x-python",
   "name": "python",
   "nbconvert_exporter": "python",
   "pygments_lexer": "ipython3",
   "version": "3.8.2-final"
  },
  "orig_nbformat": 2,
  "kernelspec": {
   "name": "python3",
   "display_name": "Python 3.8.2 64-bit ('dev': conda)",
   "metadata": {
    "interpreter": {
     "hash": "275cb10805542e64acdc34f09f1e1d61dd5205e6269cf8cb27101260640067e9"
    }
   }
  }
 },
 "nbformat": 4,
 "nbformat_minor": 2,
 "cells": [
  {
   "cell_type": "code",
   "execution_count": 182,
   "metadata": {},
   "outputs": [],
   "source": [
    "import numpy as np \n",
    "import pandas as pd\n",
    "#from pandas_profiling import ProfileReport\n",
    "from sklearn.impute import SimpleImputer, KNNImputer\n",
    "from sklearn.preprocessing import OrdinalEncoder\n",
    "from sklearn.preprocessing import OneHotEncoder\n",
    "#from fancyimpute import KNN\n",
    "\n"
   ]
  },
  {
   "cell_type": "code",
   "execution_count": null,
   "metadata": {},
   "outputs": [],
   "source": []
  },
  {
   "cell_type": "code",
   "execution_count": 183,
   "metadata": {},
   "outputs": [],
   "source": [
    "churn = pd.read_csv('data/churn.csv')"
   ]
  },
  {
   "cell_type": "code",
   "execution_count": 185,
   "metadata": {},
   "outputs": [
    {
     "output_type": "execute_result",
     "data": {
      "text/plain": [
       "    avg_dist  avg_rating_by_driver  avg_rating_of_driver  avg_surge  \\\n",
       "0       6.94                   5.0                   5.0       1.00   \n",
       "1       8.06                   5.0                   5.0       1.00   \n",
       "2      21.50                   4.0                   NaN       1.00   \n",
       "3       9.46                   5.0                   NaN       2.75   \n",
       "4      13.77                   5.0                   NaN       1.00   \n",
       "5      14.51                   5.0                   NaN       1.00   \n",
       "6       4.87                   4.7                   4.0       1.00   \n",
       "7       1.78                   4.0                   5.0       1.00   \n",
       "8       6.87                   5.0                   4.7       1.00   \n",
       "9       2.41                   5.0                   3.0       1.00   \n",
       "10      3.96                   5.0                   NaN       2.00   \n",
       "11     17.04                   5.0                   NaN       1.00   \n",
       "12      5.42                   4.7                   5.0       1.00   \n",
       "13      5.02                   5.0                   5.0       1.00   \n",
       "14      4.28                   5.0                   4.0       1.15   \n",
       "15      3.40                   5.0                   5.0       1.00   \n",
       "16      6.74                   4.8                   3.7       1.02   \n",
       "17      7.27                   4.8                   4.0       1.00   \n",
       "18      2.72                   4.7                   4.5       1.00   \n",
       "19      5.94                   5.0                   5.0       1.00   \n",
       "\n",
       "          city last_trip_date    phone signup_date  surge_pct  \\\n",
       "0      Astapor     2014-05-03  Android  2014-01-12        0.0   \n",
       "1      Astapor     2014-01-26  Android  2014-01-25        0.0   \n",
       "2   Winterfell     2014-05-21   iPhone  2014-01-02        0.0   \n",
       "3   Winterfell     2014-01-10  Android  2014-01-09      100.0   \n",
       "4   Winterfell     2014-05-13   iPhone  2014-01-31        0.0   \n",
       "5      Astapor     2014-04-22   iPhone  2014-01-29        0.0   \n",
       "6      Astapor     2014-04-21  Android  2014-01-18        0.0   \n",
       "7   Winterfell     2014-01-12   iPhone  2014-01-11        0.0   \n",
       "8      Astapor     2014-01-30  Android  2014-01-01        0.0   \n",
       "9   Winterfell     2014-01-29   iPhone  2014-01-28        0.0   \n",
       "10  Winterfell     2014-01-19   iPhone  2014-01-18      100.0   \n",
       "11  Winterfell     2014-05-12  Android  2014-01-26        0.0   \n",
       "12     Astapor     2014-06-28   iPhone  2014-01-05        0.0   \n",
       "13     Astapor     2014-01-19  Android  2014-01-19        0.0   \n",
       "14  Winterfell     2014-06-28  Android  2014-01-14       20.0   \n",
       "15     Astapor     2014-01-16  Android  2014-01-16        0.0   \n",
       "16  Winterfell     2014-05-30   iPhone  2014-01-25        9.1   \n",
       "17  Winterfell     2014-05-15   iPhone  2014-01-07        0.0   \n",
       "18     Astapor     2014-04-13   iPhone  2014-01-10        0.0   \n",
       "19     Astapor     2014-03-06   iPhone  2014-01-26        0.0   \n",
       "\n",
       "    trips_in_first_30_days  luxury_car_user  weekday_pct  \n",
       "0                        0            False        100.0  \n",
       "1                        2             True          0.0  \n",
       "2                        1             True        100.0  \n",
       "3                        1            False        100.0  \n",
       "4                        0            False        100.0  \n",
       "5                        0             True        100.0  \n",
       "6                        0            False         66.7  \n",
       "7                        3            False          0.0  \n",
       "8                        3            False         66.7  \n",
       "9                        1            False        100.0  \n",
       "10                       1            False          0.0  \n",
       "11                       0             True        100.0  \n",
       "12                       2             True         33.3  \n",
       "13                       1            False          0.0  \n",
       "14                       2            False         40.0  \n",
       "15                       1             True        100.0  \n",
       "16                       2            False         54.5  \n",
       "17                       1            False         75.0  \n",
       "18                       1            False         33.3  \n",
       "19                       1             True        100.0  "
      ],
      "text/html": "<div>\n<style scoped>\n    .dataframe tbody tr th:only-of-type {\n        vertical-align: middle;\n    }\n\n    .dataframe tbody tr th {\n        vertical-align: top;\n    }\n\n    .dataframe thead th {\n        text-align: right;\n    }\n</style>\n<table border=\"1\" class=\"dataframe\">\n  <thead>\n    <tr style=\"text-align: right;\">\n      <th></th>\n      <th>avg_dist</th>\n      <th>avg_rating_by_driver</th>\n      <th>avg_rating_of_driver</th>\n      <th>avg_surge</th>\n      <th>city</th>\n      <th>last_trip_date</th>\n      <th>phone</th>\n      <th>signup_date</th>\n      <th>surge_pct</th>\n      <th>trips_in_first_30_days</th>\n      <th>luxury_car_user</th>\n      <th>weekday_pct</th>\n    </tr>\n  </thead>\n  <tbody>\n    <tr>\n      <th>0</th>\n      <td>6.94</td>\n      <td>5.0</td>\n      <td>5.0</td>\n      <td>1.00</td>\n      <td>Astapor</td>\n      <td>2014-05-03</td>\n      <td>Android</td>\n      <td>2014-01-12</td>\n      <td>0.0</td>\n      <td>0</td>\n      <td>False</td>\n      <td>100.0</td>\n    </tr>\n    <tr>\n      <th>1</th>\n      <td>8.06</td>\n      <td>5.0</td>\n      <td>5.0</td>\n      <td>1.00</td>\n      <td>Astapor</td>\n      <td>2014-01-26</td>\n      <td>Android</td>\n      <td>2014-01-25</td>\n      <td>0.0</td>\n      <td>2</td>\n      <td>True</td>\n      <td>0.0</td>\n    </tr>\n    <tr>\n      <th>2</th>\n      <td>21.50</td>\n      <td>4.0</td>\n      <td>NaN</td>\n      <td>1.00</td>\n      <td>Winterfell</td>\n      <td>2014-05-21</td>\n      <td>iPhone</td>\n      <td>2014-01-02</td>\n      <td>0.0</td>\n      <td>1</td>\n      <td>True</td>\n      <td>100.0</td>\n    </tr>\n    <tr>\n      <th>3</th>\n      <td>9.46</td>\n      <td>5.0</td>\n      <td>NaN</td>\n      <td>2.75</td>\n      <td>Winterfell</td>\n      <td>2014-01-10</td>\n      <td>Android</td>\n      <td>2014-01-09</td>\n      <td>100.0</td>\n      <td>1</td>\n      <td>False</td>\n      <td>100.0</td>\n    </tr>\n    <tr>\n      <th>4</th>\n      <td>13.77</td>\n      <td>5.0</td>\n      <td>NaN</td>\n      <td>1.00</td>\n      <td>Winterfell</td>\n      <td>2014-05-13</td>\n      <td>iPhone</td>\n      <td>2014-01-31</td>\n      <td>0.0</td>\n      <td>0</td>\n      <td>False</td>\n      <td>100.0</td>\n    </tr>\n    <tr>\n      <th>5</th>\n      <td>14.51</td>\n      <td>5.0</td>\n      <td>NaN</td>\n      <td>1.00</td>\n      <td>Astapor</td>\n      <td>2014-04-22</td>\n      <td>iPhone</td>\n      <td>2014-01-29</td>\n      <td>0.0</td>\n      <td>0</td>\n      <td>True</td>\n      <td>100.0</td>\n    </tr>\n    <tr>\n      <th>6</th>\n      <td>4.87</td>\n      <td>4.7</td>\n      <td>4.0</td>\n      <td>1.00</td>\n      <td>Astapor</td>\n      <td>2014-04-21</td>\n      <td>Android</td>\n      <td>2014-01-18</td>\n      <td>0.0</td>\n      <td>0</td>\n      <td>False</td>\n      <td>66.7</td>\n    </tr>\n    <tr>\n      <th>7</th>\n      <td>1.78</td>\n      <td>4.0</td>\n      <td>5.0</td>\n      <td>1.00</td>\n      <td>Winterfell</td>\n      <td>2014-01-12</td>\n      <td>iPhone</td>\n      <td>2014-01-11</td>\n      <td>0.0</td>\n      <td>3</td>\n      <td>False</td>\n      <td>0.0</td>\n    </tr>\n    <tr>\n      <th>8</th>\n      <td>6.87</td>\n      <td>5.0</td>\n      <td>4.7</td>\n      <td>1.00</td>\n      <td>Astapor</td>\n      <td>2014-01-30</td>\n      <td>Android</td>\n      <td>2014-01-01</td>\n      <td>0.0</td>\n      <td>3</td>\n      <td>False</td>\n      <td>66.7</td>\n    </tr>\n    <tr>\n      <th>9</th>\n      <td>2.41</td>\n      <td>5.0</td>\n      <td>3.0</td>\n      <td>1.00</td>\n      <td>Winterfell</td>\n      <td>2014-01-29</td>\n      <td>iPhone</td>\n      <td>2014-01-28</td>\n      <td>0.0</td>\n      <td>1</td>\n      <td>False</td>\n      <td>100.0</td>\n    </tr>\n    <tr>\n      <th>10</th>\n      <td>3.96</td>\n      <td>5.0</td>\n      <td>NaN</td>\n      <td>2.00</td>\n      <td>Winterfell</td>\n      <td>2014-01-19</td>\n      <td>iPhone</td>\n      <td>2014-01-18</td>\n      <td>100.0</td>\n      <td>1</td>\n      <td>False</td>\n      <td>0.0</td>\n    </tr>\n    <tr>\n      <th>11</th>\n      <td>17.04</td>\n      <td>5.0</td>\n      <td>NaN</td>\n      <td>1.00</td>\n      <td>Winterfell</td>\n      <td>2014-05-12</td>\n      <td>Android</td>\n      <td>2014-01-26</td>\n      <td>0.0</td>\n      <td>0</td>\n      <td>True</td>\n      <td>100.0</td>\n    </tr>\n    <tr>\n      <th>12</th>\n      <td>5.42</td>\n      <td>4.7</td>\n      <td>5.0</td>\n      <td>1.00</td>\n      <td>Astapor</td>\n      <td>2014-06-28</td>\n      <td>iPhone</td>\n      <td>2014-01-05</td>\n      <td>0.0</td>\n      <td>2</td>\n      <td>True</td>\n      <td>33.3</td>\n    </tr>\n    <tr>\n      <th>13</th>\n      <td>5.02</td>\n      <td>5.0</td>\n      <td>5.0</td>\n      <td>1.00</td>\n      <td>Astapor</td>\n      <td>2014-01-19</td>\n      <td>Android</td>\n      <td>2014-01-19</td>\n      <td>0.0</td>\n      <td>1</td>\n      <td>False</td>\n      <td>0.0</td>\n    </tr>\n    <tr>\n      <th>14</th>\n      <td>4.28</td>\n      <td>5.0</td>\n      <td>4.0</td>\n      <td>1.15</td>\n      <td>Winterfell</td>\n      <td>2014-06-28</td>\n      <td>Android</td>\n      <td>2014-01-14</td>\n      <td>20.0</td>\n      <td>2</td>\n      <td>False</td>\n      <td>40.0</td>\n    </tr>\n    <tr>\n      <th>15</th>\n      <td>3.40</td>\n      <td>5.0</td>\n      <td>5.0</td>\n      <td>1.00</td>\n      <td>Astapor</td>\n      <td>2014-01-16</td>\n      <td>Android</td>\n      <td>2014-01-16</td>\n      <td>0.0</td>\n      <td>1</td>\n      <td>True</td>\n      <td>100.0</td>\n    </tr>\n    <tr>\n      <th>16</th>\n      <td>6.74</td>\n      <td>4.8</td>\n      <td>3.7</td>\n      <td>1.02</td>\n      <td>Winterfell</td>\n      <td>2014-05-30</td>\n      <td>iPhone</td>\n      <td>2014-01-25</td>\n      <td>9.1</td>\n      <td>2</td>\n      <td>False</td>\n      <td>54.5</td>\n    </tr>\n    <tr>\n      <th>17</th>\n      <td>7.27</td>\n      <td>4.8</td>\n      <td>4.0</td>\n      <td>1.00</td>\n      <td>Winterfell</td>\n      <td>2014-05-15</td>\n      <td>iPhone</td>\n      <td>2014-01-07</td>\n      <td>0.0</td>\n      <td>1</td>\n      <td>False</td>\n      <td>75.0</td>\n    </tr>\n    <tr>\n      <th>18</th>\n      <td>2.72</td>\n      <td>4.7</td>\n      <td>4.5</td>\n      <td>1.00</td>\n      <td>Astapor</td>\n      <td>2014-04-13</td>\n      <td>iPhone</td>\n      <td>2014-01-10</td>\n      <td>0.0</td>\n      <td>1</td>\n      <td>False</td>\n      <td>33.3</td>\n    </tr>\n    <tr>\n      <th>19</th>\n      <td>5.94</td>\n      <td>5.0</td>\n      <td>5.0</td>\n      <td>1.00</td>\n      <td>Astapor</td>\n      <td>2014-03-06</td>\n      <td>iPhone</td>\n      <td>2014-01-26</td>\n      <td>0.0</td>\n      <td>1</td>\n      <td>True</td>\n      <td>100.0</td>\n    </tr>\n  </tbody>\n</table>\n</div>"
     },
     "metadata": {},
     "execution_count": 185
    }
   ],
   "source": [
    "churn.head(20)"
   ]
  },
  {
   "cell_type": "code",
   "execution_count": 186,
   "metadata": {},
   "outputs": [
    {
     "output_type": "stream",
     "name": "stdout",
     "text": [
      "<class 'pandas.core.frame.DataFrame'>\nRangeIndex: 40000 entries, 0 to 39999\nData columns (total 12 columns):\n #   Column                  Non-Null Count  Dtype  \n---  ------                  --------------  -----  \n 0   avg_dist                40000 non-null  float64\n 1   avg_rating_by_driver    39838 non-null  float64\n 2   avg_rating_of_driver    33472 non-null  float64\n 3   avg_surge               40000 non-null  float64\n 4   city                    40000 non-null  object \n 5   last_trip_date          40000 non-null  object \n 6   phone                   39681 non-null  object \n 7   signup_date             40000 non-null  object \n 8   surge_pct               40000 non-null  float64\n 9   trips_in_first_30_days  40000 non-null  int64  \n 10  luxury_car_user         40000 non-null  bool   \n 11  weekday_pct             40000 non-null  float64\ndtypes: bool(1), float64(6), int64(1), object(4)\nmemory usage: 3.4+ MB\n"
     ]
    }
   ],
   "source": [
    "churn.info()"
   ]
  },
  {
   "cell_type": "code",
   "execution_count": 189,
   "metadata": {},
   "outputs": [],
   "source": [
    "#Simple mean impute for ratings columns\n",
    "imp = SimpleImputer(missing_values = np.nan, strategy = 'mean')\n",
    "imp.fit(churn[['avg_rating_by_driver','avg_rating_of_driver']])\n",
    "churn_imp = imp.transform(churn[['avg_rating_by_driver','avg_rating_of_driver']])\n",
    "pd.DataFrame(churn_imp)\n",
    "churn[['avg_rating_by_driver','avg_rating_of_driver']]=churn_imp\n",
    "churn\n",
    "\n",
    "#encode non-null values: https://towardsdatascience.com/preprocessing-encode-and-knn-impute-all-categorical-features-fast-b05f50b4dfaa \n",
    "encoder = OrdinalEncoder()\n",
    "#imputer = KNN()\n",
    "cat_cols = ['phone']\n",
    "\n",
    "def encode(data):\n",
    "    '''function to encode non-null data and replace it in the original data'''\n",
    "    #retains only non-null values\n",
    "    nonulls = np.array(data.dropna())\n",
    "    #reshapes the data for encoding\n",
    "    impute_reshape = nonulls.reshape(-1,1)\n",
    "    #encode date\n",
    "    impute_ordinal = encoder.fit_transform(impute_reshape)\n",
    "    #Assign back encoded values to non-null values\n",
    "    data.loc[data.notnull()] = np.squeeze(impute_ordinal)\n",
    "    return data\n",
    "\n",
    "\n",
    "for columns in cat_cols:\n",
    "    encode(churn[columns])\n",
    "\n",
    "def churn_(df, column):\n",
    "    dates = df[column]\n",
    "    cutoff_date = '2014-06-01'\n",
    "    array = []\n",
    "    for date in dates:\n",
    "        if date > cutoff_date:\n",
    "            array.append(1)\n",
    "        else:\n",
    "            array.append(0)\n",
    "    df['active'] = array\n",
    "    return df\n",
    "\n",
    "\n",
    "churn = churn_(churn, 'last_trip_date')\n",
    "\n",
    "\n",
    "#KNN impute for phone column\n",
    "imputer = KNNImputer(n_neighbors=5, weights=\"uniform\")\n",
    "churn_imp2=imputer.fit_transform(churn[['avg_rating_by_driver','avg_rating_of_driver','phone']])\n",
    "churn[['avg_rating_by_driver','avg_rating_of_driver','phone']]=churn_imp2\n",
    "\n",
    "\n",
    "# creating instance of one-hot-encoder \n",
    "enc = OneHotEncoder(handle_unknown='ignore')\n",
    "enc_df = pd.DataFrame(enc.fit_transform(churn[['city']]).toarray())\n",
    "churn = churn.join(enc_df)\n",
    "churn = churn.drop(['city'],axis =1)\n",
    "\n",
    "#create feature with difference between signup and last trip\n",
    "churn['last_trip_date_d'] = pd.to_datetime(churn['last_trip_date'])\n",
    "churn['signup_date_d'] = pd.to_datetime(churn['signup_date'])\n",
    "churn['date_delta'] = churn['last_trip_date_d']-churn['signup_date_d']\n"
   ]
  },
  {
   "cell_type": "code",
   "execution_count": 190,
   "metadata": {},
   "outputs": [],
   "source": [
    "\n",
    "churn = churn.rename(columns = {0:'city_0', 1:'city_1',2:'city_2'},errors = 'raise')\n"
   ]
  },
  {
   "cell_type": "code",
   "execution_count": 191,
   "metadata": {},
   "outputs": [
    {
     "output_type": "execute_result",
     "data": {
      "text/plain": [
       "       avg_dist  avg_rating_by_driver  avg_rating_of_driver  avg_surge  \\\n",
       "0          6.94                   5.0              5.000000       1.00   \n",
       "1          8.06                   5.0              5.000000       1.00   \n",
       "2         21.50                   4.0              4.601697       1.00   \n",
       "3          9.46                   5.0              4.601697       2.75   \n",
       "4         13.77                   5.0              4.601697       1.00   \n",
       "...         ...                   ...                   ...        ...   \n",
       "39995      2.06                   4.8              4.300000       1.08   \n",
       "39996      2.05                   5.0              5.000000       1.00   \n",
       "39997      3.04                   5.0              5.000000       1.00   \n",
       "39998      3.49                   4.3              3.300000       1.50   \n",
       "39999      4.25                   4.7              5.000000       1.00   \n",
       "\n",
       "      last_trip_date  phone signup_date  surge_pct  trips_in_first_30_days  \\\n",
       "0         2014-05-03    0.0  2014-01-12        0.0                       0   \n",
       "1         2014-01-26    0.0  2014-01-25        0.0                       2   \n",
       "2         2014-05-21    1.0  2014-01-02        0.0                       1   \n",
       "3         2014-01-10    0.0  2014-01-09      100.0                       1   \n",
       "4         2014-05-13    1.0  2014-01-31        0.0                       0   \n",
       "...              ...    ...         ...        ...                     ...   \n",
       "39995     2014-04-02    0.0  2014-01-26        9.5                       8   \n",
       "39996     2014-05-09    1.0  2014-01-08        0.0                       2   \n",
       "39997     2014-06-24    0.0  2014-01-04        0.0                       3   \n",
       "39998     2014-02-09    1.0  2014-01-08       40.0                       5   \n",
       "39999     2014-06-27    1.0  2014-01-18        0.0                       2   \n",
       "\n",
       "       luxury_car_user  weekday_pct  active  city_0  city_1  city_2  \\\n",
       "0                False        100.0       0     1.0     0.0     0.0   \n",
       "1                 True          0.0       0     1.0     0.0     0.0   \n",
       "2                 True        100.0       0     0.0     0.0     1.0   \n",
       "3                False        100.0       0     0.0     0.0     1.0   \n",
       "4                False        100.0       0     0.0     0.0     1.0   \n",
       "...                ...          ...     ...     ...     ...     ...   \n",
       "39995            False         90.5       0     0.0     0.0     1.0   \n",
       "39996            False         85.7       0     0.0     1.0     0.0   \n",
       "39997             True         33.3       1     0.0     0.0     1.0   \n",
       "39998            False         60.0       0     1.0     0.0     0.0   \n",
       "39999             True         42.9       1     1.0     0.0     0.0   \n",
       "\n",
       "      last_trip_date_d signup_date_d date_delta  \n",
       "0           2014-05-03    2014-01-12   111 days  \n",
       "1           2014-01-26    2014-01-25     1 days  \n",
       "2           2014-05-21    2014-01-02   139 days  \n",
       "3           2014-01-10    2014-01-09     1 days  \n",
       "4           2014-05-13    2014-01-31   102 days  \n",
       "...                ...           ...        ...  \n",
       "39995       2014-04-02    2014-01-26    66 days  \n",
       "39996       2014-05-09    2014-01-08   121 days  \n",
       "39997       2014-06-24    2014-01-04   171 days  \n",
       "39998       2014-02-09    2014-01-08    32 days  \n",
       "39999       2014-06-27    2014-01-18   160 days  \n",
       "\n",
       "[40000 rows x 18 columns]"
      ],
      "text/html": "<div>\n<style scoped>\n    .dataframe tbody tr th:only-of-type {\n        vertical-align: middle;\n    }\n\n    .dataframe tbody tr th {\n        vertical-align: top;\n    }\n\n    .dataframe thead th {\n        text-align: right;\n    }\n</style>\n<table border=\"1\" class=\"dataframe\">\n  <thead>\n    <tr style=\"text-align: right;\">\n      <th></th>\n      <th>avg_dist</th>\n      <th>avg_rating_by_driver</th>\n      <th>avg_rating_of_driver</th>\n      <th>avg_surge</th>\n      <th>last_trip_date</th>\n      <th>phone</th>\n      <th>signup_date</th>\n      <th>surge_pct</th>\n      <th>trips_in_first_30_days</th>\n      <th>luxury_car_user</th>\n      <th>weekday_pct</th>\n      <th>active</th>\n      <th>city_0</th>\n      <th>city_1</th>\n      <th>city_2</th>\n      <th>last_trip_date_d</th>\n      <th>signup_date_d</th>\n      <th>date_delta</th>\n    </tr>\n  </thead>\n  <tbody>\n    <tr>\n      <th>0</th>\n      <td>6.94</td>\n      <td>5.0</td>\n      <td>5.000000</td>\n      <td>1.00</td>\n      <td>2014-05-03</td>\n      <td>0.0</td>\n      <td>2014-01-12</td>\n      <td>0.0</td>\n      <td>0</td>\n      <td>False</td>\n      <td>100.0</td>\n      <td>0</td>\n      <td>1.0</td>\n      <td>0.0</td>\n      <td>0.0</td>\n      <td>2014-05-03</td>\n      <td>2014-01-12</td>\n      <td>111 days</td>\n    </tr>\n    <tr>\n      <th>1</th>\n      <td>8.06</td>\n      <td>5.0</td>\n      <td>5.000000</td>\n      <td>1.00</td>\n      <td>2014-01-26</td>\n      <td>0.0</td>\n      <td>2014-01-25</td>\n      <td>0.0</td>\n      <td>2</td>\n      <td>True</td>\n      <td>0.0</td>\n      <td>0</td>\n      <td>1.0</td>\n      <td>0.0</td>\n      <td>0.0</td>\n      <td>2014-01-26</td>\n      <td>2014-01-25</td>\n      <td>1 days</td>\n    </tr>\n    <tr>\n      <th>2</th>\n      <td>21.50</td>\n      <td>4.0</td>\n      <td>4.601697</td>\n      <td>1.00</td>\n      <td>2014-05-21</td>\n      <td>1.0</td>\n      <td>2014-01-02</td>\n      <td>0.0</td>\n      <td>1</td>\n      <td>True</td>\n      <td>100.0</td>\n      <td>0</td>\n      <td>0.0</td>\n      <td>0.0</td>\n      <td>1.0</td>\n      <td>2014-05-21</td>\n      <td>2014-01-02</td>\n      <td>139 days</td>\n    </tr>\n    <tr>\n      <th>3</th>\n      <td>9.46</td>\n      <td>5.0</td>\n      <td>4.601697</td>\n      <td>2.75</td>\n      <td>2014-01-10</td>\n      <td>0.0</td>\n      <td>2014-01-09</td>\n      <td>100.0</td>\n      <td>1</td>\n      <td>False</td>\n      <td>100.0</td>\n      <td>0</td>\n      <td>0.0</td>\n      <td>0.0</td>\n      <td>1.0</td>\n      <td>2014-01-10</td>\n      <td>2014-01-09</td>\n      <td>1 days</td>\n    </tr>\n    <tr>\n      <th>4</th>\n      <td>13.77</td>\n      <td>5.0</td>\n      <td>4.601697</td>\n      <td>1.00</td>\n      <td>2014-05-13</td>\n      <td>1.0</td>\n      <td>2014-01-31</td>\n      <td>0.0</td>\n      <td>0</td>\n      <td>False</td>\n      <td>100.0</td>\n      <td>0</td>\n      <td>0.0</td>\n      <td>0.0</td>\n      <td>1.0</td>\n      <td>2014-05-13</td>\n      <td>2014-01-31</td>\n      <td>102 days</td>\n    </tr>\n    <tr>\n      <th>...</th>\n      <td>...</td>\n      <td>...</td>\n      <td>...</td>\n      <td>...</td>\n      <td>...</td>\n      <td>...</td>\n      <td>...</td>\n      <td>...</td>\n      <td>...</td>\n      <td>...</td>\n      <td>...</td>\n      <td>...</td>\n      <td>...</td>\n      <td>...</td>\n      <td>...</td>\n      <td>...</td>\n      <td>...</td>\n      <td>...</td>\n    </tr>\n    <tr>\n      <th>39995</th>\n      <td>2.06</td>\n      <td>4.8</td>\n      <td>4.300000</td>\n      <td>1.08</td>\n      <td>2014-04-02</td>\n      <td>0.0</td>\n      <td>2014-01-26</td>\n      <td>9.5</td>\n      <td>8</td>\n      <td>False</td>\n      <td>90.5</td>\n      <td>0</td>\n      <td>0.0</td>\n      <td>0.0</td>\n      <td>1.0</td>\n      <td>2014-04-02</td>\n      <td>2014-01-26</td>\n      <td>66 days</td>\n    </tr>\n    <tr>\n      <th>39996</th>\n      <td>2.05</td>\n      <td>5.0</td>\n      <td>5.000000</td>\n      <td>1.00</td>\n      <td>2014-05-09</td>\n      <td>1.0</td>\n      <td>2014-01-08</td>\n      <td>0.0</td>\n      <td>2</td>\n      <td>False</td>\n      <td>85.7</td>\n      <td>0</td>\n      <td>0.0</td>\n      <td>1.0</td>\n      <td>0.0</td>\n      <td>2014-05-09</td>\n      <td>2014-01-08</td>\n      <td>121 days</td>\n    </tr>\n    <tr>\n      <th>39997</th>\n      <td>3.04</td>\n      <td>5.0</td>\n      <td>5.000000</td>\n      <td>1.00</td>\n      <td>2014-06-24</td>\n      <td>0.0</td>\n      <td>2014-01-04</td>\n      <td>0.0</td>\n      <td>3</td>\n      <td>True</td>\n      <td>33.3</td>\n      <td>1</td>\n      <td>0.0</td>\n      <td>0.0</td>\n      <td>1.0</td>\n      <td>2014-06-24</td>\n      <td>2014-01-04</td>\n      <td>171 days</td>\n    </tr>\n    <tr>\n      <th>39998</th>\n      <td>3.49</td>\n      <td>4.3</td>\n      <td>3.300000</td>\n      <td>1.50</td>\n      <td>2014-02-09</td>\n      <td>1.0</td>\n      <td>2014-01-08</td>\n      <td>40.0</td>\n      <td>5</td>\n      <td>False</td>\n      <td>60.0</td>\n      <td>0</td>\n      <td>1.0</td>\n      <td>0.0</td>\n      <td>0.0</td>\n      <td>2014-02-09</td>\n      <td>2014-01-08</td>\n      <td>32 days</td>\n    </tr>\n    <tr>\n      <th>39999</th>\n      <td>4.25</td>\n      <td>4.7</td>\n      <td>5.000000</td>\n      <td>1.00</td>\n      <td>2014-06-27</td>\n      <td>1.0</td>\n      <td>2014-01-18</td>\n      <td>0.0</td>\n      <td>2</td>\n      <td>True</td>\n      <td>42.9</td>\n      <td>1</td>\n      <td>1.0</td>\n      <td>0.0</td>\n      <td>0.0</td>\n      <td>2014-06-27</td>\n      <td>2014-01-18</td>\n      <td>160 days</td>\n    </tr>\n  </tbody>\n</table>\n<p>40000 rows × 18 columns</p>\n</div>"
     },
     "metadata": {},
     "execution_count": 191
    }
   ],
   "source": [
    "churn"
   ]
  },
  {
   "cell_type": "code",
   "execution_count": 192,
   "metadata": {},
   "outputs": [],
   "source": [
    "def date_to_month(df, column_name):\n",
    "    df[column_name] = pd.to_datetime(df[column_name])\n",
    "    df['month '+ column_name] = df[column_name].dt.month\n",
    "    return df\n",
    "\n",
    "date_to_month(churn, 'signup_date')\n",
    "churn = churn.drop(['signup_date'],axis =1)\n",
    "date_to_month(churn, 'last_trip_date')\n",
    "churn = churn.drop(['last_trip_date'], axis = 1)\n",
    "\n",
    "\n"
   ]
  },
  {
   "cell_type": "code",
   "execution_count": 193,
   "metadata": {},
   "outputs": [
    {
     "output_type": "execute_result",
     "data": {
      "text/plain": [
       "       avg_dist  avg_rating_by_driver  avg_rating_of_driver  avg_surge  phone  \\\n",
       "0          6.94                   5.0              5.000000       1.00    0.0   \n",
       "1          8.06                   5.0              5.000000       1.00    0.0   \n",
       "2         21.50                   4.0              4.601697       1.00    1.0   \n",
       "3          9.46                   5.0              4.601697       2.75    0.0   \n",
       "4         13.77                   5.0              4.601697       1.00    1.0   \n",
       "...         ...                   ...                   ...        ...    ...   \n",
       "39995      2.06                   4.8              4.300000       1.08    0.0   \n",
       "39996      2.05                   5.0              5.000000       1.00    1.0   \n",
       "39997      3.04                   5.0              5.000000       1.00    0.0   \n",
       "39998      3.49                   4.3              3.300000       1.50    1.0   \n",
       "39999      4.25                   4.7              5.000000       1.00    1.0   \n",
       "\n",
       "       surge_pct  trips_in_first_30_days  luxury_car_user  weekday_pct  \\\n",
       "0            0.0                       0            False        100.0   \n",
       "1            0.0                       2             True          0.0   \n",
       "2            0.0                       1             True        100.0   \n",
       "3          100.0                       1            False        100.0   \n",
       "4            0.0                       0            False        100.0   \n",
       "...          ...                     ...              ...          ...   \n",
       "39995        9.5                       8            False         90.5   \n",
       "39996        0.0                       2            False         85.7   \n",
       "39997        0.0                       3             True         33.3   \n",
       "39998       40.0                       5            False         60.0   \n",
       "39999        0.0                       2             True         42.9   \n",
       "\n",
       "       active  city_0  city_1  city_2 last_trip_date_d signup_date_d  \\\n",
       "0           0     1.0     0.0     0.0       2014-05-03    2014-01-12   \n",
       "1           0     1.0     0.0     0.0       2014-01-26    2014-01-25   \n",
       "2           0     0.0     0.0     1.0       2014-05-21    2014-01-02   \n",
       "3           0     0.0     0.0     1.0       2014-01-10    2014-01-09   \n",
       "4           0     0.0     0.0     1.0       2014-05-13    2014-01-31   \n",
       "...       ...     ...     ...     ...              ...           ...   \n",
       "39995       0     0.0     0.0     1.0       2014-04-02    2014-01-26   \n",
       "39996       0     0.0     1.0     0.0       2014-05-09    2014-01-08   \n",
       "39997       1     0.0     0.0     1.0       2014-06-24    2014-01-04   \n",
       "39998       0     1.0     0.0     0.0       2014-02-09    2014-01-08   \n",
       "39999       1     1.0     0.0     0.0       2014-06-27    2014-01-18   \n",
       "\n",
       "      date_delta  month signup_date  month last_trip_date  \n",
       "0       111 days                  1                     5  \n",
       "1         1 days                  1                     1  \n",
       "2       139 days                  1                     5  \n",
       "3         1 days                  1                     1  \n",
       "4       102 days                  1                     5  \n",
       "...          ...                ...                   ...  \n",
       "39995    66 days                  1                     4  \n",
       "39996   121 days                  1                     5  \n",
       "39997   171 days                  1                     6  \n",
       "39998    32 days                  1                     2  \n",
       "39999   160 days                  1                     6  \n",
       "\n",
       "[40000 rows x 18 columns]"
      ],
      "text/html": "<div>\n<style scoped>\n    .dataframe tbody tr th:only-of-type {\n        vertical-align: middle;\n    }\n\n    .dataframe tbody tr th {\n        vertical-align: top;\n    }\n\n    .dataframe thead th {\n        text-align: right;\n    }\n</style>\n<table border=\"1\" class=\"dataframe\">\n  <thead>\n    <tr style=\"text-align: right;\">\n      <th></th>\n      <th>avg_dist</th>\n      <th>avg_rating_by_driver</th>\n      <th>avg_rating_of_driver</th>\n      <th>avg_surge</th>\n      <th>phone</th>\n      <th>surge_pct</th>\n      <th>trips_in_first_30_days</th>\n      <th>luxury_car_user</th>\n      <th>weekday_pct</th>\n      <th>active</th>\n      <th>city_0</th>\n      <th>city_1</th>\n      <th>city_2</th>\n      <th>last_trip_date_d</th>\n      <th>signup_date_d</th>\n      <th>date_delta</th>\n      <th>month signup_date</th>\n      <th>month last_trip_date</th>\n    </tr>\n  </thead>\n  <tbody>\n    <tr>\n      <th>0</th>\n      <td>6.94</td>\n      <td>5.0</td>\n      <td>5.000000</td>\n      <td>1.00</td>\n      <td>0.0</td>\n      <td>0.0</td>\n      <td>0</td>\n      <td>False</td>\n      <td>100.0</td>\n      <td>0</td>\n      <td>1.0</td>\n      <td>0.0</td>\n      <td>0.0</td>\n      <td>2014-05-03</td>\n      <td>2014-01-12</td>\n      <td>111 days</td>\n      <td>1</td>\n      <td>5</td>\n    </tr>\n    <tr>\n      <th>1</th>\n      <td>8.06</td>\n      <td>5.0</td>\n      <td>5.000000</td>\n      <td>1.00</td>\n      <td>0.0</td>\n      <td>0.0</td>\n      <td>2</td>\n      <td>True</td>\n      <td>0.0</td>\n      <td>0</td>\n      <td>1.0</td>\n      <td>0.0</td>\n      <td>0.0</td>\n      <td>2014-01-26</td>\n      <td>2014-01-25</td>\n      <td>1 days</td>\n      <td>1</td>\n      <td>1</td>\n    </tr>\n    <tr>\n      <th>2</th>\n      <td>21.50</td>\n      <td>4.0</td>\n      <td>4.601697</td>\n      <td>1.00</td>\n      <td>1.0</td>\n      <td>0.0</td>\n      <td>1</td>\n      <td>True</td>\n      <td>100.0</td>\n      <td>0</td>\n      <td>0.0</td>\n      <td>0.0</td>\n      <td>1.0</td>\n      <td>2014-05-21</td>\n      <td>2014-01-02</td>\n      <td>139 days</td>\n      <td>1</td>\n      <td>5</td>\n    </tr>\n    <tr>\n      <th>3</th>\n      <td>9.46</td>\n      <td>5.0</td>\n      <td>4.601697</td>\n      <td>2.75</td>\n      <td>0.0</td>\n      <td>100.0</td>\n      <td>1</td>\n      <td>False</td>\n      <td>100.0</td>\n      <td>0</td>\n      <td>0.0</td>\n      <td>0.0</td>\n      <td>1.0</td>\n      <td>2014-01-10</td>\n      <td>2014-01-09</td>\n      <td>1 days</td>\n      <td>1</td>\n      <td>1</td>\n    </tr>\n    <tr>\n      <th>4</th>\n      <td>13.77</td>\n      <td>5.0</td>\n      <td>4.601697</td>\n      <td>1.00</td>\n      <td>1.0</td>\n      <td>0.0</td>\n      <td>0</td>\n      <td>False</td>\n      <td>100.0</td>\n      <td>0</td>\n      <td>0.0</td>\n      <td>0.0</td>\n      <td>1.0</td>\n      <td>2014-05-13</td>\n      <td>2014-01-31</td>\n      <td>102 days</td>\n      <td>1</td>\n      <td>5</td>\n    </tr>\n    <tr>\n      <th>...</th>\n      <td>...</td>\n      <td>...</td>\n      <td>...</td>\n      <td>...</td>\n      <td>...</td>\n      <td>...</td>\n      <td>...</td>\n      <td>...</td>\n      <td>...</td>\n      <td>...</td>\n      <td>...</td>\n      <td>...</td>\n      <td>...</td>\n      <td>...</td>\n      <td>...</td>\n      <td>...</td>\n      <td>...</td>\n      <td>...</td>\n    </tr>\n    <tr>\n      <th>39995</th>\n      <td>2.06</td>\n      <td>4.8</td>\n      <td>4.300000</td>\n      <td>1.08</td>\n      <td>0.0</td>\n      <td>9.5</td>\n      <td>8</td>\n      <td>False</td>\n      <td>90.5</td>\n      <td>0</td>\n      <td>0.0</td>\n      <td>0.0</td>\n      <td>1.0</td>\n      <td>2014-04-02</td>\n      <td>2014-01-26</td>\n      <td>66 days</td>\n      <td>1</td>\n      <td>4</td>\n    </tr>\n    <tr>\n      <th>39996</th>\n      <td>2.05</td>\n      <td>5.0</td>\n      <td>5.000000</td>\n      <td>1.00</td>\n      <td>1.0</td>\n      <td>0.0</td>\n      <td>2</td>\n      <td>False</td>\n      <td>85.7</td>\n      <td>0</td>\n      <td>0.0</td>\n      <td>1.0</td>\n      <td>0.0</td>\n      <td>2014-05-09</td>\n      <td>2014-01-08</td>\n      <td>121 days</td>\n      <td>1</td>\n      <td>5</td>\n    </tr>\n    <tr>\n      <th>39997</th>\n      <td>3.04</td>\n      <td>5.0</td>\n      <td>5.000000</td>\n      <td>1.00</td>\n      <td>0.0</td>\n      <td>0.0</td>\n      <td>3</td>\n      <td>True</td>\n      <td>33.3</td>\n      <td>1</td>\n      <td>0.0</td>\n      <td>0.0</td>\n      <td>1.0</td>\n      <td>2014-06-24</td>\n      <td>2014-01-04</td>\n      <td>171 days</td>\n      <td>1</td>\n      <td>6</td>\n    </tr>\n    <tr>\n      <th>39998</th>\n      <td>3.49</td>\n      <td>4.3</td>\n      <td>3.300000</td>\n      <td>1.50</td>\n      <td>1.0</td>\n      <td>40.0</td>\n      <td>5</td>\n      <td>False</td>\n      <td>60.0</td>\n      <td>0</td>\n      <td>1.0</td>\n      <td>0.0</td>\n      <td>0.0</td>\n      <td>2014-02-09</td>\n      <td>2014-01-08</td>\n      <td>32 days</td>\n      <td>1</td>\n      <td>2</td>\n    </tr>\n    <tr>\n      <th>39999</th>\n      <td>4.25</td>\n      <td>4.7</td>\n      <td>5.000000</td>\n      <td>1.00</td>\n      <td>1.0</td>\n      <td>0.0</td>\n      <td>2</td>\n      <td>True</td>\n      <td>42.9</td>\n      <td>1</td>\n      <td>1.0</td>\n      <td>0.0</td>\n      <td>0.0</td>\n      <td>2014-06-27</td>\n      <td>2014-01-18</td>\n      <td>160 days</td>\n      <td>1</td>\n      <td>6</td>\n    </tr>\n  </tbody>\n</table>\n<p>40000 rows × 18 columns</p>\n</div>"
     },
     "metadata": {},
     "execution_count": 193
    }
   ],
   "source": [
    "churn"
   ]
  },
  {
   "cell_type": "code",
   "execution_count": null,
   "metadata": {},
   "outputs": [],
   "source": []
  }
 ]
}