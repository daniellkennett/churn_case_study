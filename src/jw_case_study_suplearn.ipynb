{
 "metadata": {
  "language_info": {
   "codemirror_mode": {
    "name": "ipython",
    "version": 3
   },
   "file_extension": ".py",
   "mimetype": "text/x-python",
   "name": "python",
   "nbconvert_exporter": "python",
   "pygments_lexer": "ipython3",
   "version": "3.8.2-final"
  },
  "orig_nbformat": 2,
  "kernelspec": {
   "name": "python3",
   "display_name": "Python 3.8.2 64-bit ('dev': conda)",
   "metadata": {
    "interpreter": {
     "hash": "275cb10805542e64acdc34f09f1e1d61dd5205e6269cf8cb27101260640067e9"
    }
   }
  }
 },
 "nbformat": 4,
 "nbformat_minor": 2,
 "cells": [
  {
   "cell_type": "code",
   "execution_count": 19,
   "metadata": {},
   "outputs": [],
   "source": [
    "import numpy as np \n",
    "import pandas as pd\n",
    "#from pandas_profiling import ProfileReport\n",
    "from sklearn.impute import SimpleImputer, KNNImputer\n",
    "from sklearn.preprocessing import OrdinalEncoder\n",
    "from sklearn.preprocessing import OneHotEncoder\n",
    "#from fancyimpute import KNN\n",
    "\n"
   ]
  },
  {
   "cell_type": "code",
   "execution_count": 20,
   "metadata": {},
   "outputs": [],
   "source": [
    "churn = pd.read_csv('../data/churn.csv')"
   ]
  },
  {
   "cell_type": "code",
   "execution_count": 21,
   "metadata": {},
   "outputs": [
    {
     "output_type": "execute_result",
     "data": {
      "text/plain": [
       "    avg_dist  avg_rating_by_driver  avg_rating_of_driver  avg_surge  \\\n",
       "0       3.67                   5.0                   4.7       1.10   \n",
       "1       8.26                   5.0                   5.0       1.00   \n",
       "2       0.77                   5.0                   4.3       1.00   \n",
       "3       2.36                   4.9                   4.6       1.14   \n",
       "4       3.13                   4.9                   4.4       1.19   \n",
       "5      10.56                   5.0                   3.5       1.00   \n",
       "6       3.95                   4.0                   NaN       1.00   \n",
       "7       2.04                   5.0                   5.0       1.00   \n",
       "8       4.36                   5.0                   4.5       1.00   \n",
       "9       2.37                   5.0                   NaN       1.00   \n",
       "10      4.28                   4.9                   5.0       1.00   \n",
       "11      3.81                   5.0                   4.0       1.00   \n",
       "12     20.29                   5.0                   NaN       1.00   \n",
       "13      3.04                   5.0                   4.0       1.38   \n",
       "14     26.01                   5.0                   NaN       1.00   \n",
       "15     13.20                   5.0                   NaN       1.00   \n",
       "16     10.86                   3.0                   5.0       1.00   \n",
       "17      2.38                   4.8                   3.9       1.00   \n",
       "18      6.83                   4.8                   4.6       1.21   \n",
       "19     12.08                   5.0                   5.0       1.17   \n",
       "\n",
       "              city last_trip_date    phone signup_date  surge_pct  \\\n",
       "0   King's Landing     2014-06-17   iPhone  2014-01-25       15.4   \n",
       "1          Astapor     2014-05-05  Android  2014-01-29        0.0   \n",
       "2          Astapor     2014-01-07   iPhone  2014-01-06        0.0   \n",
       "3   King's Landing     2014-06-29   iPhone  2014-01-10       20.0   \n",
       "4       Winterfell     2014-03-15  Android  2014-01-27       11.8   \n",
       "5       Winterfell     2014-06-06   iPhone  2014-01-09        0.0   \n",
       "6          Astapor     2014-01-25  Android  2014-01-24        0.0   \n",
       "7       Winterfell     2014-01-29   iPhone  2014-01-28        0.0   \n",
       "8       Winterfell     2014-02-01  Android  2014-01-21        0.0   \n",
       "9       Winterfell     2014-01-05  Android  2014-01-03        0.0   \n",
       "10      Winterfell     2014-05-30   iPhone  2014-01-13        0.0   \n",
       "11      Winterfell     2014-01-10   iPhone  2014-01-06        0.0   \n",
       "12      Winterfell     2014-03-12   iPhone  2014-01-15        0.0   \n",
       "13  King's Landing     2014-06-08   iPhone  2014-01-29       50.0   \n",
       "14         Astapor     2014-01-28  Android  2014-01-27        0.0   \n",
       "15      Winterfell     2014-01-16  Android  2014-01-15        0.0   \n",
       "16  King's Landing     2014-06-28  Android  2014-01-11        0.0   \n",
       "17  King's Landing     2014-07-01   iPhone  2014-01-12        0.0   \n",
       "18  King's Landing     2014-06-24   iPhone  2014-01-28       30.8   \n",
       "19  King's Landing     2014-06-03   iPhone  2014-01-02       33.3   \n",
       "\n",
       "    trips_in_first_30_days  luxury_car_user  weekday_pct  \n",
       "0                        4             True         46.2  \n",
       "1                        0            False         50.0  \n",
       "2                        3            False        100.0  \n",
       "3                        9             True         80.0  \n",
       "4                       14            False         82.4  \n",
       "5                        2             True        100.0  \n",
       "6                        1            False        100.0  \n",
       "7                        2            False        100.0  \n",
       "8                        2            False        100.0  \n",
       "9                        1            False          0.0  \n",
       "10                       1             True        100.0  \n",
       "11                       3            False        100.0  \n",
       "12                       1            False        100.0  \n",
       "13                       0            False         50.0  \n",
       "14                       1            False        100.0  \n",
       "15                       1             True        100.0  \n",
       "16                       1             True         50.0  \n",
       "17                       0             True         95.2  \n",
       "18                       6             True         80.8  \n",
       "19                       0            False         66.7  "
      ],
      "text/html": "<div>\n<style scoped>\n    .dataframe tbody tr th:only-of-type {\n        vertical-align: middle;\n    }\n\n    .dataframe tbody tr th {\n        vertical-align: top;\n    }\n\n    .dataframe thead th {\n        text-align: right;\n    }\n</style>\n<table border=\"1\" class=\"dataframe\">\n  <thead>\n    <tr style=\"text-align: right;\">\n      <th></th>\n      <th>avg_dist</th>\n      <th>avg_rating_by_driver</th>\n      <th>avg_rating_of_driver</th>\n      <th>avg_surge</th>\n      <th>city</th>\n      <th>last_trip_date</th>\n      <th>phone</th>\n      <th>signup_date</th>\n      <th>surge_pct</th>\n      <th>trips_in_first_30_days</th>\n      <th>luxury_car_user</th>\n      <th>weekday_pct</th>\n    </tr>\n  </thead>\n  <tbody>\n    <tr>\n      <th>0</th>\n      <td>3.67</td>\n      <td>5.0</td>\n      <td>4.7</td>\n      <td>1.10</td>\n      <td>King's Landing</td>\n      <td>2014-06-17</td>\n      <td>iPhone</td>\n      <td>2014-01-25</td>\n      <td>15.4</td>\n      <td>4</td>\n      <td>True</td>\n      <td>46.2</td>\n    </tr>\n    <tr>\n      <th>1</th>\n      <td>8.26</td>\n      <td>5.0</td>\n      <td>5.0</td>\n      <td>1.00</td>\n      <td>Astapor</td>\n      <td>2014-05-05</td>\n      <td>Android</td>\n      <td>2014-01-29</td>\n      <td>0.0</td>\n      <td>0</td>\n      <td>False</td>\n      <td>50.0</td>\n    </tr>\n    <tr>\n      <th>2</th>\n      <td>0.77</td>\n      <td>5.0</td>\n      <td>4.3</td>\n      <td>1.00</td>\n      <td>Astapor</td>\n      <td>2014-01-07</td>\n      <td>iPhone</td>\n      <td>2014-01-06</td>\n      <td>0.0</td>\n      <td>3</td>\n      <td>False</td>\n      <td>100.0</td>\n    </tr>\n    <tr>\n      <th>3</th>\n      <td>2.36</td>\n      <td>4.9</td>\n      <td>4.6</td>\n      <td>1.14</td>\n      <td>King's Landing</td>\n      <td>2014-06-29</td>\n      <td>iPhone</td>\n      <td>2014-01-10</td>\n      <td>20.0</td>\n      <td>9</td>\n      <td>True</td>\n      <td>80.0</td>\n    </tr>\n    <tr>\n      <th>4</th>\n      <td>3.13</td>\n      <td>4.9</td>\n      <td>4.4</td>\n      <td>1.19</td>\n      <td>Winterfell</td>\n      <td>2014-03-15</td>\n      <td>Android</td>\n      <td>2014-01-27</td>\n      <td>11.8</td>\n      <td>14</td>\n      <td>False</td>\n      <td>82.4</td>\n    </tr>\n    <tr>\n      <th>5</th>\n      <td>10.56</td>\n      <td>5.0</td>\n      <td>3.5</td>\n      <td>1.00</td>\n      <td>Winterfell</td>\n      <td>2014-06-06</td>\n      <td>iPhone</td>\n      <td>2014-01-09</td>\n      <td>0.0</td>\n      <td>2</td>\n      <td>True</td>\n      <td>100.0</td>\n    </tr>\n    <tr>\n      <th>6</th>\n      <td>3.95</td>\n      <td>4.0</td>\n      <td>NaN</td>\n      <td>1.00</td>\n      <td>Astapor</td>\n      <td>2014-01-25</td>\n      <td>Android</td>\n      <td>2014-01-24</td>\n      <td>0.0</td>\n      <td>1</td>\n      <td>False</td>\n      <td>100.0</td>\n    </tr>\n    <tr>\n      <th>7</th>\n      <td>2.04</td>\n      <td>5.0</td>\n      <td>5.0</td>\n      <td>1.00</td>\n      <td>Winterfell</td>\n      <td>2014-01-29</td>\n      <td>iPhone</td>\n      <td>2014-01-28</td>\n      <td>0.0</td>\n      <td>2</td>\n      <td>False</td>\n      <td>100.0</td>\n    </tr>\n    <tr>\n      <th>8</th>\n      <td>4.36</td>\n      <td>5.0</td>\n      <td>4.5</td>\n      <td>1.00</td>\n      <td>Winterfell</td>\n      <td>2014-02-01</td>\n      <td>Android</td>\n      <td>2014-01-21</td>\n      <td>0.0</td>\n      <td>2</td>\n      <td>False</td>\n      <td>100.0</td>\n    </tr>\n    <tr>\n      <th>9</th>\n      <td>2.37</td>\n      <td>5.0</td>\n      <td>NaN</td>\n      <td>1.00</td>\n      <td>Winterfell</td>\n      <td>2014-01-05</td>\n      <td>Android</td>\n      <td>2014-01-03</td>\n      <td>0.0</td>\n      <td>1</td>\n      <td>False</td>\n      <td>0.0</td>\n    </tr>\n    <tr>\n      <th>10</th>\n      <td>4.28</td>\n      <td>4.9</td>\n      <td>5.0</td>\n      <td>1.00</td>\n      <td>Winterfell</td>\n      <td>2014-05-30</td>\n      <td>iPhone</td>\n      <td>2014-01-13</td>\n      <td>0.0</td>\n      <td>1</td>\n      <td>True</td>\n      <td>100.0</td>\n    </tr>\n    <tr>\n      <th>11</th>\n      <td>3.81</td>\n      <td>5.0</td>\n      <td>4.0</td>\n      <td>1.00</td>\n      <td>Winterfell</td>\n      <td>2014-01-10</td>\n      <td>iPhone</td>\n      <td>2014-01-06</td>\n      <td>0.0</td>\n      <td>3</td>\n      <td>False</td>\n      <td>100.0</td>\n    </tr>\n    <tr>\n      <th>12</th>\n      <td>20.29</td>\n      <td>5.0</td>\n      <td>NaN</td>\n      <td>1.00</td>\n      <td>Winterfell</td>\n      <td>2014-03-12</td>\n      <td>iPhone</td>\n      <td>2014-01-15</td>\n      <td>0.0</td>\n      <td>1</td>\n      <td>False</td>\n      <td>100.0</td>\n    </tr>\n    <tr>\n      <th>13</th>\n      <td>3.04</td>\n      <td>5.0</td>\n      <td>4.0</td>\n      <td>1.38</td>\n      <td>King's Landing</td>\n      <td>2014-06-08</td>\n      <td>iPhone</td>\n      <td>2014-01-29</td>\n      <td>50.0</td>\n      <td>0</td>\n      <td>False</td>\n      <td>50.0</td>\n    </tr>\n    <tr>\n      <th>14</th>\n      <td>26.01</td>\n      <td>5.0</td>\n      <td>NaN</td>\n      <td>1.00</td>\n      <td>Astapor</td>\n      <td>2014-01-28</td>\n      <td>Android</td>\n      <td>2014-01-27</td>\n      <td>0.0</td>\n      <td>1</td>\n      <td>False</td>\n      <td>100.0</td>\n    </tr>\n    <tr>\n      <th>15</th>\n      <td>13.20</td>\n      <td>5.0</td>\n      <td>NaN</td>\n      <td>1.00</td>\n      <td>Winterfell</td>\n      <td>2014-01-16</td>\n      <td>Android</td>\n      <td>2014-01-15</td>\n      <td>0.0</td>\n      <td>1</td>\n      <td>True</td>\n      <td>100.0</td>\n    </tr>\n    <tr>\n      <th>16</th>\n      <td>10.86</td>\n      <td>3.0</td>\n      <td>5.0</td>\n      <td>1.00</td>\n      <td>King's Landing</td>\n      <td>2014-06-28</td>\n      <td>Android</td>\n      <td>2014-01-11</td>\n      <td>0.0</td>\n      <td>1</td>\n      <td>True</td>\n      <td>50.0</td>\n    </tr>\n    <tr>\n      <th>17</th>\n      <td>2.38</td>\n      <td>4.8</td>\n      <td>3.9</td>\n      <td>1.00</td>\n      <td>King's Landing</td>\n      <td>2014-07-01</td>\n      <td>iPhone</td>\n      <td>2014-01-12</td>\n      <td>0.0</td>\n      <td>0</td>\n      <td>True</td>\n      <td>95.2</td>\n    </tr>\n    <tr>\n      <th>18</th>\n      <td>6.83</td>\n      <td>4.8</td>\n      <td>4.6</td>\n      <td>1.21</td>\n      <td>King's Landing</td>\n      <td>2014-06-24</td>\n      <td>iPhone</td>\n      <td>2014-01-28</td>\n      <td>30.8</td>\n      <td>6</td>\n      <td>True</td>\n      <td>80.8</td>\n    </tr>\n    <tr>\n      <th>19</th>\n      <td>12.08</td>\n      <td>5.0</td>\n      <td>5.0</td>\n      <td>1.17</td>\n      <td>King's Landing</td>\n      <td>2014-06-03</td>\n      <td>iPhone</td>\n      <td>2014-01-02</td>\n      <td>33.3</td>\n      <td>0</td>\n      <td>False</td>\n      <td>66.7</td>\n    </tr>\n  </tbody>\n</table>\n</div>"
     },
     "metadata": {},
     "execution_count": 21
    }
   ],
   "source": [
    "churn.head(20)"
   ]
  },
  {
   "cell_type": "code",
   "execution_count": 22,
   "metadata": {},
   "outputs": [
    {
     "output_type": "stream",
     "name": "stdout",
     "text": [
      "<class 'pandas.core.frame.DataFrame'>\nRangeIndex: 50000 entries, 0 to 49999\nData columns (total 12 columns):\n #   Column                  Non-Null Count  Dtype  \n---  ------                  --------------  -----  \n 0   avg_dist                50000 non-null  float64\n 1   avg_rating_by_driver    49799 non-null  float64\n 2   avg_rating_of_driver    41878 non-null  float64\n 3   avg_surge               50000 non-null  float64\n 4   city                    50000 non-null  object \n 5   last_trip_date          50000 non-null  object \n 6   phone                   49604 non-null  object \n 7   signup_date             50000 non-null  object \n 8   surge_pct               50000 non-null  float64\n 9   trips_in_first_30_days  50000 non-null  int64  \n 10  luxury_car_user         50000 non-null  bool   \n 11  weekday_pct             50000 non-null  float64\ndtypes: bool(1), float64(6), int64(1), object(4)\nmemory usage: 4.2+ MB\n"
     ]
    }
   ],
   "source": [
    "churn.info()"
   ]
  },
  {
   "cell_type": "code",
   "execution_count": 23,
   "metadata": {},
   "outputs": [],
   "source": [
    "#Simple mean impute for ratings columns\n",
    "imp = SimpleImputer(missing_values = np.nan, strategy = 'mean')\n",
    "imp.fit(churn[['avg_rating_by_driver','avg_rating_of_driver']])\n",
    "churn_imp = imp.transform(churn[['avg_rating_by_driver','avg_rating_of_driver']])\n",
    "pd.DataFrame(churn_imp)\n",
    "churn[['avg_rating_by_driver','avg_rating_of_driver']]=churn_imp\n",
    "churn\n",
    "\n",
    "#encode non-null values: https://towardsdatascience.com/preprocessing-encode-and-knn-impute-all-categorical-features-fast-b05f50b4dfaa \n",
    "encoder = OrdinalEncoder()\n",
    "#imputer = KNN()\n",
    "cat_cols = ['phone']\n",
    "\n",
    "def encode(data):\n",
    "    '''function to encode non-null data and replace it in the original data'''\n",
    "    #retains only non-null values\n",
    "    nonulls = np.array(data.dropna())\n",
    "    #reshapes the data for encoding\n",
    "    impute_reshape = nonulls.reshape(-1,1)\n",
    "    #encode date\n",
    "    impute_ordinal = encoder.fit_transform(impute_reshape)\n",
    "    #Assign back encoded values to non-null values\n",
    "    data.loc[data.notnull()] = np.squeeze(impute_ordinal)\n",
    "    return data\n",
    "\n",
    "\n",
    "for columns in cat_cols:\n",
    "    encode(churn[columns])\n",
    "\n",
    "def churn_(df, column):\n",
    "    dates = df[column]\n",
    "    cutoff_date = '2014-06-01'\n",
    "    array = []\n",
    "    for date in dates:\n",
    "        if date > cutoff_date:\n",
    "            array.append(1)\n",
    "        else:\n",
    "            array.append(0)\n",
    "    df['active'] = array\n",
    "    return df\n",
    "\n",
    "\n",
    "churn = churn_(churn, 'last_trip_date')\n",
    "\n",
    "\n",
    "#KNN impute for phone column\n",
    "imputer = KNNImputer(n_neighbors=5, weights=\"uniform\")\n",
    "churn_imp2=imputer.fit_transform(churn[['avg_rating_by_driver','avg_rating_of_driver','phone']])\n",
    "churn[['avg_rating_by_driver','avg_rating_of_driver','phone']]=churn_imp2\n",
    "\n",
    "\n",
    "# creating instance of one-hot-encoder \n",
    "enc = OneHotEncoder(handle_unknown='ignore')\n",
    "enc_df = pd.DataFrame(enc.fit_transform(churn[['city']]).toarray())\n",
    "churn = churn.join(enc_df)\n",
    "churn = churn.drop(['city'],axis =1)\n",
    "\n",
    "#create feature with difference between signup and last trip\n",
    "churn['last_trip_date_d'] = pd.to_datetime(churn['last_trip_date'])\n",
    "churn['signup_date_d'] = pd.to_datetime(churn['signup_date'])\n",
    "churn['date_delta'] = churn['last_trip_date_d']-churn['signup_date_d']\n",
    "\n"
   ]
  },
  {
   "cell_type": "code",
   "execution_count": 24,
   "metadata": {},
   "outputs": [],
   "source": [
    "\n",
    "churn = churn.rename(columns = {0:'city_0', 1:'city_1',2:'city_2'},errors = 'raise')\n"
   ]
  },
  {
   "cell_type": "code",
   "execution_count": 25,
   "metadata": {},
   "outputs": [
    {
     "output_type": "execute_result",
     "data": {
      "text/plain": [
       "       avg_dist  avg_rating_by_driver  avg_rating_of_driver  avg_surge  \\\n",
       "0          3.67                   5.0              4.700000       1.10   \n",
       "1          8.26                   5.0              5.000000       1.00   \n",
       "2          0.77                   5.0              4.300000       1.00   \n",
       "3          2.36                   4.9              4.600000       1.14   \n",
       "4          3.13                   4.9              4.400000       1.19   \n",
       "...         ...                   ...                   ...        ...   \n",
       "49995      5.63                   4.2              5.000000       1.00   \n",
       "49996      0.00                   4.0              4.601559       1.00   \n",
       "49997      3.86                   5.0              5.000000       1.00   \n",
       "49998      4.58                   3.5              3.000000       1.00   \n",
       "49999      3.49                   5.0              4.601559       1.00   \n",
       "\n",
       "      last_trip_date  phone signup_date  surge_pct  trips_in_first_30_days  \\\n",
       "0         2014-06-17    1.0  2014-01-25       15.4                       4   \n",
       "1         2014-05-05    0.0  2014-01-29        0.0                       0   \n",
       "2         2014-01-07    1.0  2014-01-06        0.0                       3   \n",
       "3         2014-06-29    1.0  2014-01-10       20.0                       9   \n",
       "4         2014-03-15    0.0  2014-01-27       11.8                      14   \n",
       "...              ...    ...         ...        ...                     ...   \n",
       "49995     2014-06-05    1.0  2014-01-25        0.0                       0   \n",
       "49996     2014-01-25    1.0  2014-01-24        0.0                       1   \n",
       "49997     2014-05-22    0.0  2014-01-31        0.0                       0   \n",
       "49998     2014-01-15    1.0  2014-01-14        0.0                       2   \n",
       "49999     2014-04-20    0.0  2014-01-18        0.0                       0   \n",
       "\n",
       "       luxury_car_user  weekday_pct  active  city_0  city_1  city_2  \\\n",
       "0                 True         46.2       1     0.0     1.0     0.0   \n",
       "1                False         50.0       0     1.0     0.0     0.0   \n",
       "2                False        100.0       0     1.0     0.0     0.0   \n",
       "3                 True         80.0       1     0.0     1.0     0.0   \n",
       "4                False         82.4       0     0.0     0.0     1.0   \n",
       "...                ...          ...     ...     ...     ...     ...   \n",
       "49995            False        100.0       1     0.0     1.0     0.0   \n",
       "49996            False          0.0       0     1.0     0.0     0.0   \n",
       "49997             True        100.0       0     0.0     0.0     1.0   \n",
       "49998            False        100.0       0     1.0     0.0     0.0   \n",
       "49999            False          0.0       0     1.0     0.0     0.0   \n",
       "\n",
       "      last_trip_date_d signup_date_d date_delta  \n",
       "0           2014-06-17    2014-01-25   143 days  \n",
       "1           2014-05-05    2014-01-29    96 days  \n",
       "2           2014-01-07    2014-01-06     1 days  \n",
       "3           2014-06-29    2014-01-10   170 days  \n",
       "4           2014-03-15    2014-01-27    47 days  \n",
       "...                ...           ...        ...  \n",
       "49995       2014-06-05    2014-01-25   131 days  \n",
       "49996       2014-01-25    2014-01-24     1 days  \n",
       "49997       2014-05-22    2014-01-31   111 days  \n",
       "49998       2014-01-15    2014-01-14     1 days  \n",
       "49999       2014-04-20    2014-01-18    92 days  \n",
       "\n",
       "[50000 rows x 18 columns]"
      ],
      "text/html": "<div>\n<style scoped>\n    .dataframe tbody tr th:only-of-type {\n        vertical-align: middle;\n    }\n\n    .dataframe tbody tr th {\n        vertical-align: top;\n    }\n\n    .dataframe thead th {\n        text-align: right;\n    }\n</style>\n<table border=\"1\" class=\"dataframe\">\n  <thead>\n    <tr style=\"text-align: right;\">\n      <th></th>\n      <th>avg_dist</th>\n      <th>avg_rating_by_driver</th>\n      <th>avg_rating_of_driver</th>\n      <th>avg_surge</th>\n      <th>last_trip_date</th>\n      <th>phone</th>\n      <th>signup_date</th>\n      <th>surge_pct</th>\n      <th>trips_in_first_30_days</th>\n      <th>luxury_car_user</th>\n      <th>weekday_pct</th>\n      <th>active</th>\n      <th>city_0</th>\n      <th>city_1</th>\n      <th>city_2</th>\n      <th>last_trip_date_d</th>\n      <th>signup_date_d</th>\n      <th>date_delta</th>\n    </tr>\n  </thead>\n  <tbody>\n    <tr>\n      <th>0</th>\n      <td>3.67</td>\n      <td>5.0</td>\n      <td>4.700000</td>\n      <td>1.10</td>\n      <td>2014-06-17</td>\n      <td>1.0</td>\n      <td>2014-01-25</td>\n      <td>15.4</td>\n      <td>4</td>\n      <td>True</td>\n      <td>46.2</td>\n      <td>1</td>\n      <td>0.0</td>\n      <td>1.0</td>\n      <td>0.0</td>\n      <td>2014-06-17</td>\n      <td>2014-01-25</td>\n      <td>143 days</td>\n    </tr>\n    <tr>\n      <th>1</th>\n      <td>8.26</td>\n      <td>5.0</td>\n      <td>5.000000</td>\n      <td>1.00</td>\n      <td>2014-05-05</td>\n      <td>0.0</td>\n      <td>2014-01-29</td>\n      <td>0.0</td>\n      <td>0</td>\n      <td>False</td>\n      <td>50.0</td>\n      <td>0</td>\n      <td>1.0</td>\n      <td>0.0</td>\n      <td>0.0</td>\n      <td>2014-05-05</td>\n      <td>2014-01-29</td>\n      <td>96 days</td>\n    </tr>\n    <tr>\n      <th>2</th>\n      <td>0.77</td>\n      <td>5.0</td>\n      <td>4.300000</td>\n      <td>1.00</td>\n      <td>2014-01-07</td>\n      <td>1.0</td>\n      <td>2014-01-06</td>\n      <td>0.0</td>\n      <td>3</td>\n      <td>False</td>\n      <td>100.0</td>\n      <td>0</td>\n      <td>1.0</td>\n      <td>0.0</td>\n      <td>0.0</td>\n      <td>2014-01-07</td>\n      <td>2014-01-06</td>\n      <td>1 days</td>\n    </tr>\n    <tr>\n      <th>3</th>\n      <td>2.36</td>\n      <td>4.9</td>\n      <td>4.600000</td>\n      <td>1.14</td>\n      <td>2014-06-29</td>\n      <td>1.0</td>\n      <td>2014-01-10</td>\n      <td>20.0</td>\n      <td>9</td>\n      <td>True</td>\n      <td>80.0</td>\n      <td>1</td>\n      <td>0.0</td>\n      <td>1.0</td>\n      <td>0.0</td>\n      <td>2014-06-29</td>\n      <td>2014-01-10</td>\n      <td>170 days</td>\n    </tr>\n    <tr>\n      <th>4</th>\n      <td>3.13</td>\n      <td>4.9</td>\n      <td>4.400000</td>\n      <td>1.19</td>\n      <td>2014-03-15</td>\n      <td>0.0</td>\n      <td>2014-01-27</td>\n      <td>11.8</td>\n      <td>14</td>\n      <td>False</td>\n      <td>82.4</td>\n      <td>0</td>\n      <td>0.0</td>\n      <td>0.0</td>\n      <td>1.0</td>\n      <td>2014-03-15</td>\n      <td>2014-01-27</td>\n      <td>47 days</td>\n    </tr>\n    <tr>\n      <th>...</th>\n      <td>...</td>\n      <td>...</td>\n      <td>...</td>\n      <td>...</td>\n      <td>...</td>\n      <td>...</td>\n      <td>...</td>\n      <td>...</td>\n      <td>...</td>\n      <td>...</td>\n      <td>...</td>\n      <td>...</td>\n      <td>...</td>\n      <td>...</td>\n      <td>...</td>\n      <td>...</td>\n      <td>...</td>\n      <td>...</td>\n    </tr>\n    <tr>\n      <th>49995</th>\n      <td>5.63</td>\n      <td>4.2</td>\n      <td>5.000000</td>\n      <td>1.00</td>\n      <td>2014-06-05</td>\n      <td>1.0</td>\n      <td>2014-01-25</td>\n      <td>0.0</td>\n      <td>0</td>\n      <td>False</td>\n      <td>100.0</td>\n      <td>1</td>\n      <td>0.0</td>\n      <td>1.0</td>\n      <td>0.0</td>\n      <td>2014-06-05</td>\n      <td>2014-01-25</td>\n      <td>131 days</td>\n    </tr>\n    <tr>\n      <th>49996</th>\n      <td>0.00</td>\n      <td>4.0</td>\n      <td>4.601559</td>\n      <td>1.00</td>\n      <td>2014-01-25</td>\n      <td>1.0</td>\n      <td>2014-01-24</td>\n      <td>0.0</td>\n      <td>1</td>\n      <td>False</td>\n      <td>0.0</td>\n      <td>0</td>\n      <td>1.0</td>\n      <td>0.0</td>\n      <td>0.0</td>\n      <td>2014-01-25</td>\n      <td>2014-01-24</td>\n      <td>1 days</td>\n    </tr>\n    <tr>\n      <th>49997</th>\n      <td>3.86</td>\n      <td>5.0</td>\n      <td>5.000000</td>\n      <td>1.00</td>\n      <td>2014-05-22</td>\n      <td>0.0</td>\n      <td>2014-01-31</td>\n      <td>0.0</td>\n      <td>0</td>\n      <td>True</td>\n      <td>100.0</td>\n      <td>0</td>\n      <td>0.0</td>\n      <td>0.0</td>\n      <td>1.0</td>\n      <td>2014-05-22</td>\n      <td>2014-01-31</td>\n      <td>111 days</td>\n    </tr>\n    <tr>\n      <th>49998</th>\n      <td>4.58</td>\n      <td>3.5</td>\n      <td>3.000000</td>\n      <td>1.00</td>\n      <td>2014-01-15</td>\n      <td>1.0</td>\n      <td>2014-01-14</td>\n      <td>0.0</td>\n      <td>2</td>\n      <td>False</td>\n      <td>100.0</td>\n      <td>0</td>\n      <td>1.0</td>\n      <td>0.0</td>\n      <td>0.0</td>\n      <td>2014-01-15</td>\n      <td>2014-01-14</td>\n      <td>1 days</td>\n    </tr>\n    <tr>\n      <th>49999</th>\n      <td>3.49</td>\n      <td>5.0</td>\n      <td>4.601559</td>\n      <td>1.00</td>\n      <td>2014-04-20</td>\n      <td>0.0</td>\n      <td>2014-01-18</td>\n      <td>0.0</td>\n      <td>0</td>\n      <td>False</td>\n      <td>0.0</td>\n      <td>0</td>\n      <td>1.0</td>\n      <td>0.0</td>\n      <td>0.0</td>\n      <td>2014-04-20</td>\n      <td>2014-01-18</td>\n      <td>92 days</td>\n    </tr>\n  </tbody>\n</table>\n<p>50000 rows × 18 columns</p>\n</div>"
     },
     "metadata": {},
     "execution_count": 25
    }
   ],
   "source": [
    "churn"
   ]
  },
  {
   "cell_type": "code",
   "execution_count": 26,
   "metadata": {},
   "outputs": [],
   "source": [
    "def date_to_month(df, column_name):\n",
    "    df[column_name] = pd.to_datetime(df[column_name])\n",
    "    df['month '+ column_name] = df[column_name].dt.month\n",
    "    return df\n",
    "\n",
    "date_to_month(churn, 'signup_date')\n",
    "churn = churn.drop(['signup_date'],axis =1)\n",
    "date_to_month(churn, 'last_trip_date')\n",
    "churn = churn.drop(['last_trip_date'], axis = 1)\n",
    "churn = churn.drop(['last_trip_date_d','signup_date_d'], axis = 1)\n",
    "\n"
   ]
  },
  {
   "cell_type": "code",
   "execution_count": 27,
   "metadata": {},
   "outputs": [
    {
     "output_type": "execute_result",
     "data": {
      "text/plain": [
       "       avg_dist  avg_rating_by_driver  avg_rating_of_driver  avg_surge  phone  \\\n",
       "0          3.67                   5.0              4.700000       1.10    1.0   \n",
       "1          8.26                   5.0              5.000000       1.00    0.0   \n",
       "2          0.77                   5.0              4.300000       1.00    1.0   \n",
       "3          2.36                   4.9              4.600000       1.14    1.0   \n",
       "4          3.13                   4.9              4.400000       1.19    0.0   \n",
       "...         ...                   ...                   ...        ...    ...   \n",
       "49995      5.63                   4.2              5.000000       1.00    1.0   \n",
       "49996      0.00                   4.0              4.601559       1.00    1.0   \n",
       "49997      3.86                   5.0              5.000000       1.00    0.0   \n",
       "49998      4.58                   3.5              3.000000       1.00    1.0   \n",
       "49999      3.49                   5.0              4.601559       1.00    0.0   \n",
       "\n",
       "       surge_pct  trips_in_first_30_days  luxury_car_user  weekday_pct  \\\n",
       "0           15.4                       4             True         46.2   \n",
       "1            0.0                       0            False         50.0   \n",
       "2            0.0                       3            False        100.0   \n",
       "3           20.0                       9             True         80.0   \n",
       "4           11.8                      14            False         82.4   \n",
       "...          ...                     ...              ...          ...   \n",
       "49995        0.0                       0            False        100.0   \n",
       "49996        0.0                       1            False          0.0   \n",
       "49997        0.0                       0             True        100.0   \n",
       "49998        0.0                       2            False        100.0   \n",
       "49999        0.0                       0            False          0.0   \n",
       "\n",
       "       active  city_0  city_1  city_2 date_delta  month signup_date  \\\n",
       "0           1     0.0     1.0     0.0   143 days                  1   \n",
       "1           0     1.0     0.0     0.0    96 days                  1   \n",
       "2           0     1.0     0.0     0.0     1 days                  1   \n",
       "3           1     0.0     1.0     0.0   170 days                  1   \n",
       "4           0     0.0     0.0     1.0    47 days                  1   \n",
       "...       ...     ...     ...     ...        ...                ...   \n",
       "49995       1     0.0     1.0     0.0   131 days                  1   \n",
       "49996       0     1.0     0.0     0.0     1 days                  1   \n",
       "49997       0     0.0     0.0     1.0   111 days                  1   \n",
       "49998       0     1.0     0.0     0.0     1 days                  1   \n",
       "49999       0     1.0     0.0     0.0    92 days                  1   \n",
       "\n",
       "       month last_trip_date  \n",
       "0                         6  \n",
       "1                         5  \n",
       "2                         1  \n",
       "3                         6  \n",
       "4                         3  \n",
       "...                     ...  \n",
       "49995                     6  \n",
       "49996                     1  \n",
       "49997                     5  \n",
       "49998                     1  \n",
       "49999                     4  \n",
       "\n",
       "[50000 rows x 16 columns]"
      ],
      "text/html": "<div>\n<style scoped>\n    .dataframe tbody tr th:only-of-type {\n        vertical-align: middle;\n    }\n\n    .dataframe tbody tr th {\n        vertical-align: top;\n    }\n\n    .dataframe thead th {\n        text-align: right;\n    }\n</style>\n<table border=\"1\" class=\"dataframe\">\n  <thead>\n    <tr style=\"text-align: right;\">\n      <th></th>\n      <th>avg_dist</th>\n      <th>avg_rating_by_driver</th>\n      <th>avg_rating_of_driver</th>\n      <th>avg_surge</th>\n      <th>phone</th>\n      <th>surge_pct</th>\n      <th>trips_in_first_30_days</th>\n      <th>luxury_car_user</th>\n      <th>weekday_pct</th>\n      <th>active</th>\n      <th>city_0</th>\n      <th>city_1</th>\n      <th>city_2</th>\n      <th>date_delta</th>\n      <th>month signup_date</th>\n      <th>month last_trip_date</th>\n    </tr>\n  </thead>\n  <tbody>\n    <tr>\n      <th>0</th>\n      <td>3.67</td>\n      <td>5.0</td>\n      <td>4.700000</td>\n      <td>1.10</td>\n      <td>1.0</td>\n      <td>15.4</td>\n      <td>4</td>\n      <td>True</td>\n      <td>46.2</td>\n      <td>1</td>\n      <td>0.0</td>\n      <td>1.0</td>\n      <td>0.0</td>\n      <td>143 days</td>\n      <td>1</td>\n      <td>6</td>\n    </tr>\n    <tr>\n      <th>1</th>\n      <td>8.26</td>\n      <td>5.0</td>\n      <td>5.000000</td>\n      <td>1.00</td>\n      <td>0.0</td>\n      <td>0.0</td>\n      <td>0</td>\n      <td>False</td>\n      <td>50.0</td>\n      <td>0</td>\n      <td>1.0</td>\n      <td>0.0</td>\n      <td>0.0</td>\n      <td>96 days</td>\n      <td>1</td>\n      <td>5</td>\n    </tr>\n    <tr>\n      <th>2</th>\n      <td>0.77</td>\n      <td>5.0</td>\n      <td>4.300000</td>\n      <td>1.00</td>\n      <td>1.0</td>\n      <td>0.0</td>\n      <td>3</td>\n      <td>False</td>\n      <td>100.0</td>\n      <td>0</td>\n      <td>1.0</td>\n      <td>0.0</td>\n      <td>0.0</td>\n      <td>1 days</td>\n      <td>1</td>\n      <td>1</td>\n    </tr>\n    <tr>\n      <th>3</th>\n      <td>2.36</td>\n      <td>4.9</td>\n      <td>4.600000</td>\n      <td>1.14</td>\n      <td>1.0</td>\n      <td>20.0</td>\n      <td>9</td>\n      <td>True</td>\n      <td>80.0</td>\n      <td>1</td>\n      <td>0.0</td>\n      <td>1.0</td>\n      <td>0.0</td>\n      <td>170 days</td>\n      <td>1</td>\n      <td>6</td>\n    </tr>\n    <tr>\n      <th>4</th>\n      <td>3.13</td>\n      <td>4.9</td>\n      <td>4.400000</td>\n      <td>1.19</td>\n      <td>0.0</td>\n      <td>11.8</td>\n      <td>14</td>\n      <td>False</td>\n      <td>82.4</td>\n      <td>0</td>\n      <td>0.0</td>\n      <td>0.0</td>\n      <td>1.0</td>\n      <td>47 days</td>\n      <td>1</td>\n      <td>3</td>\n    </tr>\n    <tr>\n      <th>...</th>\n      <td>...</td>\n      <td>...</td>\n      <td>...</td>\n      <td>...</td>\n      <td>...</td>\n      <td>...</td>\n      <td>...</td>\n      <td>...</td>\n      <td>...</td>\n      <td>...</td>\n      <td>...</td>\n      <td>...</td>\n      <td>...</td>\n      <td>...</td>\n      <td>...</td>\n      <td>...</td>\n    </tr>\n    <tr>\n      <th>49995</th>\n      <td>5.63</td>\n      <td>4.2</td>\n      <td>5.000000</td>\n      <td>1.00</td>\n      <td>1.0</td>\n      <td>0.0</td>\n      <td>0</td>\n      <td>False</td>\n      <td>100.0</td>\n      <td>1</td>\n      <td>0.0</td>\n      <td>1.0</td>\n      <td>0.0</td>\n      <td>131 days</td>\n      <td>1</td>\n      <td>6</td>\n    </tr>\n    <tr>\n      <th>49996</th>\n      <td>0.00</td>\n      <td>4.0</td>\n      <td>4.601559</td>\n      <td>1.00</td>\n      <td>1.0</td>\n      <td>0.0</td>\n      <td>1</td>\n      <td>False</td>\n      <td>0.0</td>\n      <td>0</td>\n      <td>1.0</td>\n      <td>0.0</td>\n      <td>0.0</td>\n      <td>1 days</td>\n      <td>1</td>\n      <td>1</td>\n    </tr>\n    <tr>\n      <th>49997</th>\n      <td>3.86</td>\n      <td>5.0</td>\n      <td>5.000000</td>\n      <td>1.00</td>\n      <td>0.0</td>\n      <td>0.0</td>\n      <td>0</td>\n      <td>True</td>\n      <td>100.0</td>\n      <td>0</td>\n      <td>0.0</td>\n      <td>0.0</td>\n      <td>1.0</td>\n      <td>111 days</td>\n      <td>1</td>\n      <td>5</td>\n    </tr>\n    <tr>\n      <th>49998</th>\n      <td>4.58</td>\n      <td>3.5</td>\n      <td>3.000000</td>\n      <td>1.00</td>\n      <td>1.0</td>\n      <td>0.0</td>\n      <td>2</td>\n      <td>False</td>\n      <td>100.0</td>\n      <td>0</td>\n      <td>1.0</td>\n      <td>0.0</td>\n      <td>0.0</td>\n      <td>1 days</td>\n      <td>1</td>\n      <td>1</td>\n    </tr>\n    <tr>\n      <th>49999</th>\n      <td>3.49</td>\n      <td>5.0</td>\n      <td>4.601559</td>\n      <td>1.00</td>\n      <td>0.0</td>\n      <td>0.0</td>\n      <td>0</td>\n      <td>False</td>\n      <td>0.0</td>\n      <td>0</td>\n      <td>1.0</td>\n      <td>0.0</td>\n      <td>0.0</td>\n      <td>92 days</td>\n      <td>1</td>\n      <td>4</td>\n    </tr>\n  </tbody>\n</table>\n<p>50000 rows × 16 columns</p>\n</div>"
     },
     "metadata": {},
     "execution_count": 27
    }
   ],
   "source": [
    "churn"
   ]
  },
  {
   "cell_type": "code",
   "execution_count": 32,
   "metadata": {},
   "outputs": [],
   "source": [
    "churn['date_delta'] = churn['date_delta'].dt.days"
   ]
  },
  {
   "cell_type": "code",
   "execution_count": null,
   "metadata": {},
   "outputs": [],
   "source": []
  }
 ]
}