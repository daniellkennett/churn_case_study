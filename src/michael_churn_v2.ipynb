{
 "cells": [
  {
   "cell_type": "code",
   "execution_count": 1,
   "id": "considerable-occasions",
   "metadata": {},
   "outputs": [],
   "source": [
    "import pandas as pd\n",
    "import numpy as np\n",
    "import matplotlib.pyplot as plt\n",
    "import datetime \n",
    "from sklearn.ensemble import GradientBoostingClassifier\n",
    "from sklearn.model_selection import train_test_split, cross_val_score\n",
    "from sklearn.model_selection import GridSearchCV\n",
    "from sklearn.metrics import mean_squared_error, r2_score\n",
    "\n",
    "#from pandas_profiling import ProfileReport\n",
    "from sklearn.impute import SimpleImputer, KNNImputer\n",
    "from sklearn.preprocessing import OrdinalEncoder\n",
    "from sklearn.preprocessing import OneHotEncoder\n",
    "#from fancyimpute import KNN"
   ]
  },
  {
   "cell_type": "code",
   "execution_count": 2,
   "id": "upper-polls",
   "metadata": {
    "scrolled": true
   },
   "outputs": [
    {
     "name": "stderr",
     "output_type": "stream",
     "text": [
      "/Library/Frameworks/Python.framework/Versions/3.9/lib/python3.9/site-packages/pandas/core/indexing.py:1637: SettingWithCopyWarning: \n",
      "A value is trying to be set on a copy of a slice from a DataFrame\n",
      "\n",
      "See the caveats in the documentation: https://pandas.pydata.org/pandas-docs/stable/user_guide/indexing.html#returning-a-view-versus-a-copy\n",
      "  self._setitem_single_block(indexer, value, name)\n"
     ]
    }
   ],
   "source": [
    "churn = pd.read_csv('../data/churn.csv')\n",
    "#Simple mean impute for ratings columns\n",
    "imp = SimpleImputer(missing_values = np.nan, strategy = 'mean')\n",
    "imp.fit(churn[['avg_rating_by_driver','avg_rating_of_driver']])\n",
    "churn_imp = imp.transform(churn[['avg_rating_by_driver','avg_rating_of_driver']])\n",
    "pd.DataFrame(churn_imp)\n",
    "churn[['avg_rating_by_driver','avg_rating_of_driver']]=churn_imp\n",
    "churn#encode non-null values: https://towardsdatascience.com/preprocessing-encode-and-knn-impute-all-categorical-features-fast-b05f50b4dfaa \n",
    "encoder = OrdinalEncoder()\n",
    "#imputer = KNN()\n",
    "cat_cols = ['phone']\n",
    "\n",
    "\n",
    "def encode(data):\n",
    "    '''function to encode non-null data and replace it in the original data'''\n",
    "    #retains only non-null values\n",
    "    nonulls = np.array(data.dropna())\n",
    "    #reshapes the data for encoding\n",
    "    impute_reshape = nonulls.reshape(-1,1)\n",
    "    #encode date\n",
    "    impute_ordinal = encoder.fit_transform(impute_reshape)\n",
    "    #Assign back encoded values to non-null values\n",
    "    data.loc[data.notnull()] = np.squeeze(impute_ordinal)\n",
    "    return data \n",
    "\n",
    "for columns in cat_cols:\n",
    "    \n",
    "    encode(churn[columns])\n",
    "    \n",
    "def churn_(df, column):\n",
    "    dates = df[column]\n",
    "    cutoff_date = '2014-06-01'\n",
    "    array = []\n",
    "    for date in dates:\n",
    "        if date > cutoff_date:\n",
    "            array.append(1)\n",
    "        else:\n",
    "            array.append(0)\n",
    "    df['active'] = array\n",
    "    return df\n",
    "\n",
    "churn = churn_(churn, 'last_trip_date')\n",
    "    \n",
    "#KNN impute for phone column\n",
    "imputer = KNNImputer(n_neighbors=5, weights=\"uniform\")\n",
    "churn_imp2=imputer.fit_transform(churn[['avg_rating_by_driver','avg_rating_of_driver','phone']])\n",
    "churn[['avg_rating_by_driver','avg_rating_of_driver','phone']]=churn_imp2# creating instance of one-hot-encoder \n",
    "enc = OneHotEncoder(handle_unknown='ignore')\n",
    "enc_df = pd.DataFrame(enc.fit_transform(churn[['city']]).toarray())\n",
    "churn = churn.join(enc_df)\n",
    "churn = churn.drop(['city'],axis =1)\n",
    "\n",
    "#create feature with difference between signup and last trip\n",
    "churn['last_trip_date_d'] = pd.to_datetime(churn['last_trip_date'])\n",
    "churn['signup_date_d'] = pd.to_datetime(churn['signup_date'])\n",
    "churn['date_delta'] = churn['last_trip_date_d']-churn['signup_date_d']\n",
    "churn = churn.rename(columns = {0:'city_0', 1:'city_1',2:'city_2'},errors = 'raise')\n",
    "\n",
    "def date_to_month(df, column_name):\n",
    "    df[column_name] = pd.to_datetime(df[column_name])\n",
    "    df['month '+ column_name] = df[column_name].dt.month\n",
    "    return df\n",
    "\n",
    "date_to_month(churn, 'signup_date')\n",
    "\n",
    "churn = churn.drop(['signup_date'],axis =1)\n",
    "date_to_month(churn, 'last_trip_date')\n",
    "churn = churn.drop(['last_trip_date'], axis = 1)\n",
    "churn = churn.drop(['last_trip_date_d'], axis = 1)\n",
    "churn = churn.drop(['signup_date_d'], axis = 1)\n",
    "# churn = churn.drop(['month_signup_date'], axis = 1)"
   ]
  },
  {
   "cell_type": "code",
   "execution_count": 3,
   "id": "satellite-thermal",
   "metadata": {},
   "outputs": [],
   "source": [
    "churn['date_delta'] = churn['date_delta'].dt.days"
   ]
  },
  {
   "cell_type": "code",
   "execution_count": 4,
   "id": "theoretical-rehabilitation",
   "metadata": {},
   "outputs": [],
   "source": [
    "X = churn\n",
    "y = churn.pop('active')\n"
   ]
  },
  {
   "cell_type": "code",
   "execution_count": 5,
   "id": "sharp-wyoming",
   "metadata": {},
   "outputs": [],
   "source": [
    "X_train, X_test, y_train, y_test = train_test_split(X,y, test_size=.2, random_state=1)\n"
   ]
  },
  {
   "cell_type": "code",
   "execution_count": 8,
   "id": "interior-zealand",
   "metadata": {},
   "outputs": [],
   "source": [
    "gdbr = GradientBoostingClassifier(learning_rate=1,\n",
    "                                  loss='deviance',\n",
    "                                  n_estimators=100,\n",
    "                                  random_state=1)\n",
    "\n",
    "\n",
    "\n"
   ]
  },
  {
   "cell_type": "code",
   "execution_count": 9,
   "id": "printable-conference",
   "metadata": {},
   "outputs": [
    {
     "data": {
      "text/plain": [
       "GradientBoostingClassifier(learning_rate=1, random_state=1)"
      ]
     },
     "execution_count": 9,
     "metadata": {},
     "output_type": "execute_result"
    }
   ],
   "source": [
    "gdbr.fit(X_train, y_train)"
   ]
  },
  {
   "cell_type": "code",
   "execution_count": 10,
   "id": "prompt-namibia",
   "metadata": {},
   "outputs": [
    {
     "data": {
      "text/plain": [
       "0.989"
      ]
     },
     "execution_count": 10,
     "metadata": {},
     "output_type": "execute_result"
    }
   ],
   "source": [
    "gdbr.score(X_test, y_test)"
   ]
  },
  {
   "cell_type": "code",
   "execution_count": null,
   "id": "liked-america",
   "metadata": {},
   "outputs": [],
   "source": []
  }
 ],
 "metadata": {
  "kernelspec": {
   "display_name": "Python 3",
   "language": "python",
   "name": "python3"
  },
  "language_info": {
   "codemirror_mode": {
    "name": "ipython",
    "version": 3
   },
   "file_extension": ".py",
   "mimetype": "text/x-python",
   "name": "python",
   "nbconvert_exporter": "python",
   "pygments_lexer": "ipython3",
   "version": "3.9.1"
  }
 },
 "nbformat": 4,
 "nbformat_minor": 5
}
