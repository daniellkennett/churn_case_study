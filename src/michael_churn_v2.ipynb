{
 "cells": [
  {
   "cell_type": "code",
   "execution_count": 21,
   "id": "posted-british",
   "metadata": {},
   "outputs": [],
   "source": [
    "import pandas as pd\n",
    "import numpy as np\n",
    "import matplotlib.pyplot as plt\n",
    "import datetime \n",
    "from sklearn.ensemble import GradientBoostingClassifier\n",
    "from sklearn.model_selection import train_test_split, cross_val_score\n",
    "from sklearn.model_selection import GridSearchCV\n",
    "from sklearn.metrics import mean_squared_error, r2_score\n",
    "\n",
    "#from pandas_profiling import ProfileReport\n",
    "from sklearn.impute import SimpleImputer, KNNImputer\n",
    "from sklearn.preprocessing import OrdinalEncoder\n",
    "from sklearn.preprocessing import OneHotEncoder\n",
    "#from fancyimpute import KNN\n",
    "import seaborn as sns"
   ]
  },
  {
   "cell_type": "code",
   "execution_count": 2,
   "id": "chubby-equipment",
   "metadata": {
    "scrolled": false
   },
   "outputs": [
    {
     "name": "stderr",
     "output_type": "stream",
     "text": [
      "/Library/Frameworks/Python.framework/Versions/3.9/lib/python3.9/site-packages/pandas/core/indexing.py:1637: SettingWithCopyWarning: \n",
      "A value is trying to be set on a copy of a slice from a DataFrame\n",
      "\n",
      "See the caveats in the documentation: https://pandas.pydata.org/pandas-docs/stable/user_guide/indexing.html#returning-a-view-versus-a-copy\n",
      "  self._setitem_single_block(indexer, value, name)\n"
     ]
    }
   ],
   "source": [
    "churn = pd.read_csv('../data/churn.csv')\n",
    "#Simple mean impute for ratings columns\n",
    "imp = SimpleImputer(missing_values = np.nan, strategy = 'mean')\n",
    "imp.fit(churn[['avg_rating_by_driver','avg_rating_of_driver']])\n",
    "churn_imp = imp.transform(churn[['avg_rating_by_driver','avg_rating_of_driver']])\n",
    "pd.DataFrame(churn_imp)\n",
    "churn[['avg_rating_by_driver','avg_rating_of_driver']]=churn_imp\n",
    "churn#encode non-null values: https://towardsdatascience.com/preprocessing-encode-and-knn-impute-all-categorical-features-fast-b05f50b4dfaa \n",
    "encoder = OrdinalEncoder()\n",
    "#imputer = KNN()\n",
    "cat_cols = ['phone']\n",
    "\n",
    "\n",
    "def encode(data):\n",
    "    '''function to encode non-null data and replace it in the original data'''\n",
    "    #retains only non-null values\n",
    "    nonulls = np.array(data.dropna())\n",
    "    #reshapes the data for encoding\n",
    "    impute_reshape = nonulls.reshape(-1,1)\n",
    "    #encode date\n",
    "    impute_ordinal = encoder.fit_transform(impute_reshape)\n",
    "    #Assign back encoded values to non-null values\n",
    "    data.loc[data.notnull()] = np.squeeze(impute_ordinal)\n",
    "    return data \n",
    "\n",
    "for columns in cat_cols:\n",
    "    \n",
    "    encode(churn[columns])\n",
    "    \n",
    "def churn_(df, column):\n",
    "    dates = df[column]\n",
    "    cutoff_date = '2014-06-01'\n",
    "    array = []\n",
    "    for date in dates:\n",
    "        if date > cutoff_date:\n",
    "            array.append(1)\n",
    "        else:\n",
    "            array.append(0)\n",
    "    df['active'] = array\n",
    "    return df\n",
    "\n",
    "churn = churn_(churn, 'last_trip_date')\n",
    "    \n",
    "#KNN impute for phone column\n",
    "imputer = KNNImputer(n_neighbors=5, weights=\"uniform\")\n",
    "churn_imp2=imputer.fit_transform(churn[['avg_rating_by_driver','avg_rating_of_driver','phone']])\n",
    "churn[['avg_rating_by_driver','avg_rating_of_driver','phone']]=churn_imp2# creating instance of one-hot-encoder \n",
    "enc = OneHotEncoder(handle_unknown='ignore')\n",
    "enc_df = pd.DataFrame(enc.fit_transform(churn[['city']]).toarray())\n",
    "churn = churn.join(enc_df)\n",
    "churn = churn.drop(['city'],axis =1)\n",
    "\n",
    "#create feature with difference between signup and last trip\n",
    "churn['last_trip_date_d'] = pd.to_datetime(churn['last_trip_date'])\n",
    "churn['signup_date_d'] = pd.to_datetime(churn['signup_date'])\n",
    "churn['date_delta'] = churn['last_trip_date_d']-churn['signup_date_d']\n",
    "churn = churn.rename(columns = {0:'city_0', 1:'city_1',2:'city_2'},errors = 'raise')\n",
    "\n",
    "def date_to_month(df, column_name):\n",
    "    df[column_name] = pd.to_datetime(df[column_name])\n",
    "    df['month '+ column_name] = df[column_name].dt.month\n",
    "    return df\n",
    "\n",
    "date_to_month(churn, 'signup_date')\n",
    "\n",
    "churn = churn.drop(['signup_date'],axis =1)\n",
    "date_to_month(churn, 'last_trip_date')\n",
    "churn = churn.drop(['last_trip_date'], axis = 1)\n",
    "churn = churn.drop(['last_trip_date_d'], axis = 1)\n",
    "churn = churn.drop(['signup_date_d'], axis = 1)\n",
    "# churn = churn.drop(['month_signup_date'], axis = 1)"
   ]
  },
  {
   "cell_type": "code",
   "execution_count": 3,
   "id": "sitting-bikini",
   "metadata": {},
   "outputs": [
    {
     "data": {
      "text/plain": [
       "Index(['avg_dist', 'avg_rating_by_driver', 'avg_rating_of_driver', 'avg_surge',\n",
       "       'phone', 'surge_pct', 'trips_in_first_30_days', 'luxury_car_user',\n",
       "       'weekday_pct', 'active', 'city_0', 'city_1', 'city_2', 'date_delta',\n",
       "       'month signup_date', 'month last_trip_date'],\n",
       "      dtype='object')"
      ]
     },
     "execution_count": 3,
     "metadata": {},
     "output_type": "execute_result"
    }
   ],
   "source": [
    "churn.columns"
   ]
  },
  {
   "cell_type": "code",
   "execution_count": 4,
   "id": "metallic-schema",
   "metadata": {},
   "outputs": [],
   "source": [
    "churn['date_delta'] = churn['date_delta'].dt.days"
   ]
  },
  {
   "cell_type": "code",
   "execution_count": 5,
   "id": "acute-panic",
   "metadata": {},
   "outputs": [],
   "source": [
    "churn.drop(columns=['date_delta', 'month last_trip_date'], inplace=True)"
   ]
  },
  {
   "cell_type": "code",
   "execution_count": 6,
   "id": "thorough-experiment",
   "metadata": {},
   "outputs": [],
   "source": [
    "X = churn\n",
    "y = churn.pop('active')\n"
   ]
  },
  {
   "cell_type": "code",
   "execution_count": 7,
   "id": "conservative-model",
   "metadata": {},
   "outputs": [],
   "source": [
    "X_train, X_test, y_train, y_test = train_test_split(X,y, test_size=.2, random_state=1)\n"
   ]
  },
  {
   "cell_type": "code",
   "execution_count": 48,
   "id": "mathematical-rwanda",
   "metadata": {},
   "outputs": [],
   "source": [
    "gdbr = GradientBoostingClassifier(learning_rate=.10,\n",
    "                                  loss='deviance',\n",
    "                                  n_estimators=200,\n",
    "                                  random_state=1,\n",
    "                                  min_samples_split = 4,\n",
    "                                  max_depth=6)\n",
    "\n",
    "\n",
    "\n"
   ]
  },
  {
   "cell_type": "code",
   "execution_count": 49,
   "id": "organic-diagnosis",
   "metadata": {},
   "outputs": [
    {
     "data": {
      "text/plain": [
       "GradientBoostingClassifier(max_depth=6, min_samples_split=4, n_estimators=200,\n",
       "                           random_state=1)"
      ]
     },
     "execution_count": 49,
     "metadata": {},
     "output_type": "execute_result"
    }
   ],
   "source": [
    "gdbr.fit(X_train, y_train)"
   ]
  },
  {
   "cell_type": "code",
   "execution_count": 50,
   "id": "complimentary-bermuda",
   "metadata": {},
   "outputs": [
    {
     "data": {
      "text/plain": [
       "0.7947"
      ]
     },
     "execution_count": 50,
     "metadata": {},
     "output_type": "execute_result"
    }
   ],
   "source": [
    "gdbr.score(X_test, y_test)"
   ]
  },
  {
   "cell_type": "code",
   "execution_count": null,
   "id": "durable-vaccine",
   "metadata": {},
   "outputs": [],
   "source": [
    "np.mean(gdbr.train_score_)"
   ]
  },
  {
   "cell_type": "code",
   "execution_count": 60,
   "id": "turned-place",
   "metadata": {},
   "outputs": [
    {
     "data": {
      "text/plain": [
       "Index(['avg_dist', 'avg_rating_by_driver', 'avg_rating_of_driver', 'avg_surge',\n",
       "       'phone', 'surge_pct', 'trips_in_first_30_days', 'luxury_car_user',\n",
       "       'weekday_pct', 'city_0', 'city_1', 'city_2', 'month signup_date'],\n",
       "      dtype='object')"
      ]
     },
     "execution_count": 60,
     "metadata": {},
     "output_type": "execute_result"
    }
   ],
   "source": [
    "X.columns"
   ]
  },
  {
   "cell_type": "code",
   "execution_count": 64,
   "id": "continent-irrigation",
   "metadata": {},
   "outputs": [
    {
     "data": {
      "image/png": "[encoded data removed]",
      "text/plain": [
       "<Figure size 864x576 with 1 Axes>"
      ]
     },
     "metadata": {
      "needs_background": "light"
     },
     "output_type": "display_data"
    }
   ],
   "source": [
    "fig, ax = plt.subplots(figsize=(12,8))\n",
    "for i,n in enumerate(X.columns):\n",
    "    ax.bar(n, gdbr.feature_importances_[i])\n",
    "ax.set_xlabel('features')\n",
    "ax.set_ylabel('feature importance (normalized reduction in impurity per split)')\n",
    "ax.set_title('Feature Importance for Optimized Gradient Boost Classifier')\n",
    "plt.xticks(rotation = 30)\n",
    "plt.tight_layout()"
   ]
  },
  {
   "cell_type": "code",
   "execution_count": 26,
   "id": "magnetic-success",
   "metadata": {},
   "outputs": [],
   "source": [
    "def get_scores_v_n_est(model, y_test ):\n",
    "    scores = [mean_squared_error(y_test, predict) for predict in model.staged_predict(X_test)]\n",
    "    return scores"
   ]
  },
  {
   "cell_type": "code",
   "execution_count": 38,
   "id": "downtown-demand",
   "metadata": {},
   "outputs": [
    {
     "name": "stdout",
     "output_type": "stream",
     "text": [
      "best number of estimators is 54\n"
     ]
    },
    {
     "data": {
      "image/png": "[encoded data removed]",
      "text/plain": [
       "<Figure size 432x288 with 1 Axes>"
      ]
     },
     "metadata": {
      "needs_background": "light"
     },
     "output_type": "display_data"
    }
   ],
   "source": [
    "scores = get_scores_v_n_est(gdbr, y_test )\n",
    "fig,ax = plt.subplots()\n",
    "ax.plot(np.arange(len(scores))+1,scores)\n",
    "ax.scatter(np.argmin(scores)+1, scores[np.argmin(scores)], s=100)\n",
    "ax.set_ylabel('number of estimators')\n",
    "ax.set_xlabel('MSE')\n",
    "print('best number of estimators is {}'.format(np.argmin(scores)+1) )"
   ]
  },
  {
   "cell_type": "code",
   "execution_count": 41,
   "id": "alpha-fisher",
   "metadata": {},
   "outputs": [],
   "source": [
    "\n",
    "\n",
    "grid = {'max_depth': [2,4,6],\n",
    "        'min_samples_split': [ 2, 4, 8]}\n",
    "\n",
    "gb_gridsearch = GridSearchCV(estimator=gdbr, param_grid=grid, \n",
    "                             cv=5, verbose=0, return_train_score=True,\n",
    "                            n_jobs = -1)\n",
    "\n",
    "gb_gridsearch.fit(X_train, y_train)\n",
    "\n",
    "# and after some hours...\n",
    "df_gridsearch = pd.DataFrame(gb_gridsearch.cv_results_)\n"
   ]
  },
  {
   "cell_type": "code",
   "execution_count": 42,
   "id": "sunrise-performer",
   "metadata": {},
   "outputs": [
    {
     "data": {
      "text/html": [
       "<div>\n",
       "<style scoped>\n",
       "    .dataframe tbody tr th:only-of-type {\n",
       "        vertical-align: middle;\n",
       "    }\n",
       "\n",
       "    .dataframe tbody tr th {\n",
       "        vertical-align: top;\n",
       "    }\n",
       "\n",
       "    .dataframe thead tr th {\n",
       "        text-align: left;\n",
       "    }\n",
       "\n",
       "    .dataframe thead tr:last-of-type th {\n",
       "        text-align: right;\n",
       "    }\n",
       "</style>\n",
       "<table border=\"1\" class=\"dataframe\">\n",
       "  <thead>\n",
       "    <tr>\n",
       "      <th></th>\n",
       "      <th colspan=\"3\" halign=\"left\">mean_test_score</th>\n",
       "      <th colspan=\"3\" halign=\"left\">mean_train_score</th>\n",
       "    </tr>\n",
       "    <tr>\n",
       "      <th>param_min_samples_split</th>\n",
       "      <th>2</th>\n",
       "      <th>4</th>\n",
       "      <th>8</th>\n",
       "      <th>2</th>\n",
       "      <th>4</th>\n",
       "      <th>8</th>\n",
       "    </tr>\n",
       "    <tr>\n",
       "      <th>param_max_depth</th>\n",
       "      <th></th>\n",
       "      <th></th>\n",
       "      <th></th>\n",
       "      <th></th>\n",
       "      <th></th>\n",
       "      <th></th>\n",
       "    </tr>\n",
       "  </thead>\n",
       "  <tbody>\n",
       "    <tr>\n",
       "      <th>2</th>\n",
       "      <td>0.781500</td>\n",
       "      <td>0.781500</td>\n",
       "      <td>0.781500</td>\n",
       "      <td>0.782525</td>\n",
       "      <td>0.782525</td>\n",
       "      <td>0.782525</td>\n",
       "    </tr>\n",
       "    <tr>\n",
       "      <th>4</th>\n",
       "      <td>0.788850</td>\n",
       "      <td>0.788825</td>\n",
       "      <td>0.789125</td>\n",
       "      <td>0.795669</td>\n",
       "      <td>0.795644</td>\n",
       "      <td>0.795894</td>\n",
       "    </tr>\n",
       "    <tr>\n",
       "      <th>6</th>\n",
       "      <td>0.792225</td>\n",
       "      <td>0.793075</td>\n",
       "      <td>0.792125</td>\n",
       "      <td>0.811338</td>\n",
       "      <td>0.811512</td>\n",
       "      <td>0.810887</td>\n",
       "    </tr>\n",
       "  </tbody>\n",
       "</table>\n",
       "</div>"
      ],
      "text/plain": [
       "                        mean_test_score                     mean_train_score  \\\n",
       "param_min_samples_split               2         4         8                2   \n",
       "param_max_depth                                                                \n",
       "2                              0.781500  0.781500  0.781500         0.782525   \n",
       "4                              0.788850  0.788825  0.789125         0.795669   \n",
       "6                              0.792225  0.793075  0.792125         0.811338   \n",
       "\n",
       "                                             \n",
       "param_min_samples_split         4         8  \n",
       "param_max_depth                              \n",
       "2                        0.782525  0.782525  \n",
       "4                        0.795644  0.795894  \n",
       "6                        0.811512  0.810887  "
      ]
     },
     "execution_count": 42,
     "metadata": {},
     "output_type": "execute_result"
    }
   ],
   "source": [
    "max_scores = df_gridsearch.groupby(['param_max_depth', \n",
    "                                    'param_min_samples_split']).max()  # it doesnt matter what this is, there is only one value\n",
    "\n",
    "max_scores = max_scores.unstack()[['mean_test_score', 'mean_train_score']]\n",
    "\n",
    "max_scores\n",
    "\n"
   ]
  },
  {
   "cell_type": "code",
   "execution_count": 43,
   "id": "interracial-girlfriend",
   "metadata": {},
   "outputs": [
    {
     "data": {
      "image/png": "[encoded data removed]",
      "text/plain": [
       "<Figure size 432x288 with 2 Axes>"
      ]
     },
     "metadata": {
      "needs_background": "light"
     },
     "output_type": "display_data"
    }
   ],
   "source": [
    "sns.heatmap(max_scores.mean_test_score, annot=True, fmt='.4g');\n",
    "\n"
   ]
  },
  {
   "cell_type": "code",
   "execution_count": null,
   "id": "resistant-sullivan",
   "metadata": {},
   "outputs": [],
   "source": []
  }
 ],
 "metadata": {
  "kernelspec": {
   "display_name": "Python 3",
   "language": "python",
   "name": "python3"
  },
  "language_info": {
   "codemirror_mode": {
    "name": "ipython",
    "version": 3
   },
   "file_extension": ".py",
   "mimetype": "text/x-python",
   "name": "python",
   "nbconvert_exporter": "python",
   "pygments_lexer": "ipython3",
   "version": "3.9.1"
  }
 },
 "nbformat": 4,
 "nbformat_minor": 5
}
