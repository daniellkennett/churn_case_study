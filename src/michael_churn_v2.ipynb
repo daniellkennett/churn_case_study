{
 "cells": [
  {
   "cell_type": "code",
   "execution_count": 21,
   "id": "latest-evanescence",
   "metadata": {},
   "outputs": [],
   "source": [
    "import pandas as pd\n",
    "import numpy as np\n",
    "import matplotlib.pyplot as plt\n",
    "import datetime \n",
    "from sklearn.ensemble import GradientBoostingClassifier\n",
    "from sklearn.model_selection import train_test_split, cross_val_score\n",
    "from sklearn.model_selection import GridSearchCV\n",
    "from sklearn.metrics import mean_squared_error, r2_score\n",
    "\n",
    "#from pandas_profiling import ProfileReport\n",
    "from sklearn.impute import SimpleImputer, KNNImputer\n",
    "from sklearn.preprocessing import OrdinalEncoder\n",
    "from sklearn.preprocessing import OneHotEncoder\n",
    "#from fancyimpute import KNN\n",
    "import seaborn as sns"
   ]
  },
  {
   "cell_type": "code",
   "execution_count": 2,
   "id": "verified-copyright",
   "metadata": {
    "scrolled": false
   },
   "outputs": [
    {
     "name": "stderr",
     "output_type": "stream",
     "text": [
      "/Library/Frameworks/Python.framework/Versions/3.9/lib/python3.9/site-packages/pandas/core/indexing.py:1637: SettingWithCopyWarning: \n",
      "A value is trying to be set on a copy of a slice from a DataFrame\n",
      "\n",
      "See the caveats in the documentation: https://pandas.pydata.org/pandas-docs/stable/user_guide/indexing.html#returning-a-view-versus-a-copy\n",
      "  self._setitem_single_block(indexer, value, name)\n"
     ]
    }
   ],
   "source": [
    "churn = pd.read_csv('../data/churn.csv')\n",
    "#Simple mean impute for ratings columns\n",
    "imp = SimpleImputer(missing_values = np.nan, strategy = 'mean')\n",
    "imp.fit(churn[['avg_rating_by_driver','avg_rating_of_driver']])\n",
    "churn_imp = imp.transform(churn[['avg_rating_by_driver','avg_rating_of_driver']])\n",
    "pd.DataFrame(churn_imp)\n",
    "churn[['avg_rating_by_driver','avg_rating_of_driver']]=churn_imp\n",
    "churn#encode non-null values: https://towardsdatascience.com/preprocessing-encode-and-knn-impute-all-categorical-features-fast-b05f50b4dfaa \n",
    "encoder = OrdinalEncoder()\n",
    "#imputer = KNN()\n",
    "cat_cols = ['phone']\n",
    "\n",
    "\n",
    "def encode(data):\n",
    "    '''function to encode non-null data and replace it in the original data'''\n",
    "    #retains only non-null values\n",
    "    nonulls = np.array(data.dropna())\n",
    "    #reshapes the data for encoding\n",
    "    impute_reshape = nonulls.reshape(-1,1)\n",
    "    #encode date\n",
    "    impute_ordinal = encoder.fit_transform(impute_reshape)\n",
    "    #Assign back encoded values to non-null values\n",
    "    data.loc[data.notnull()] = np.squeeze(impute_ordinal)\n",
    "    return data \n",
    "\n",
    "for columns in cat_cols:\n",
    "    \n",
    "    encode(churn[columns])\n",
    "    \n",
    "def churn_(df, column):\n",
    "    dates = df[column]\n",
    "    cutoff_date = '2014-06-01'\n",
    "    array = []\n",
    "    for date in dates:\n",
    "        if date > cutoff_date:\n",
    "            array.append(1)\n",
    "        else:\n",
    "            array.append(0)\n",
    "    df['active'] = array\n",
    "    return df\n",
    "\n",
    "churn = churn_(churn, 'last_trip_date')\n",
    "    \n",
    "#KNN impute for phone column\n",
    "imputer = KNNImputer(n_neighbors=5, weights=\"uniform\")\n",
    "churn_imp2=imputer.fit_transform(churn[['avg_rating_by_driver','avg_rating_of_driver','phone']])\n",
    "churn[['avg_rating_by_driver','avg_rating_of_driver','phone']]=churn_imp2# creating instance of one-hot-encoder \n",
    "enc = OneHotEncoder(handle_unknown='ignore')\n",
    "enc_df = pd.DataFrame(enc.fit_transform(churn[['city']]).toarray())\n",
    "churn = churn.join(enc_df)\n",
    "churn = churn.drop(['city'],axis =1)\n",
    "\n",
    "#create feature with difference between signup and last trip\n",
    "churn['last_trip_date_d'] = pd.to_datetime(churn['last_trip_date'])\n",
    "churn['signup_date_d'] = pd.to_datetime(churn['signup_date'])\n",
    "churn['date_delta'] = churn['last_trip_date_d']-churn['signup_date_d']\n",
    "churn = churn.rename(columns = {0:'city_0', 1:'city_1',2:'city_2'},errors = 'raise')\n",
    "\n",
    "def date_to_month(df, column_name):\n",
    "    df[column_name] = pd.to_datetime(df[column_name])\n",
    "    df['month '+ column_name] = df[column_name].dt.month\n",
    "    return df\n",
    "\n",
    "date_to_month(churn, 'signup_date')\n",
    "\n",
    "churn = churn.drop(['signup_date'],axis =1)\n",
    "date_to_month(churn, 'last_trip_date')\n",
    "churn = churn.drop(['last_trip_date'], axis = 1)\n",
    "churn = churn.drop(['last_trip_date_d'], axis = 1)\n",
    "churn = churn.drop(['signup_date_d'], axis = 1)\n",
    "# churn = churn.drop(['month_signup_date'], axis = 1)"
   ]
  },
  {
   "cell_type": "code",
   "execution_count": 3,
   "id": "korean-romania",
   "metadata": {},
   "outputs": [
    {
     "data": {
      "text/plain": [
       "Index(['avg_dist', 'avg_rating_by_driver', 'avg_rating_of_driver', 'avg_surge',\n",
       "       'phone', 'surge_pct', 'trips_in_first_30_days', 'luxury_car_user',\n",
       "       'weekday_pct', 'active', 'city_0', 'city_1', 'city_2', 'date_delta',\n",
       "       'month signup_date', 'month last_trip_date'],\n",
       "      dtype='object')"
      ]
     },
     "execution_count": 3,
     "metadata": {},
     "output_type": "execute_result"
    }
   ],
   "source": [
    "churn.columns"
   ]
  },
  {
   "cell_type": "code",
   "execution_count": 4,
   "id": "catholic-helmet",
   "metadata": {},
   "outputs": [],
   "source": [
    "churn['date_delta'] = churn['date_delta'].dt.days"
   ]
  },
  {
   "cell_type": "code",
   "execution_count": 5,
   "id": "alive-outreach",
   "metadata": {},
   "outputs": [],
   "source": [
    "churn.drop(columns=['date_delta', 'month last_trip_date'], inplace=True)"
   ]
  },
  {
   "cell_type": "code",
   "execution_count": 6,
   "id": "treated-andrews",
   "metadata": {},
   "outputs": [],
   "source": [
    "X = churn\n",
    "y = churn.pop('active')\n"
   ]
  },
  {
   "cell_type": "code",
   "execution_count": 7,
   "id": "ambient-tennessee",
   "metadata": {},
   "outputs": [],
   "source": [
    "X_train, X_test, y_train, y_test = train_test_split(X,y, test_size=.2, random_state=1)\n"
   ]
  },
  {
   "cell_type": "code",
   "execution_count": 16,
   "id": "prescribed-continent",
   "metadata": {},
   "outputs": [],
   "source": [
    "gdbr = GradientBoostingClassifier(learning_rate=.25,\n",
    "                                  loss='deviance',\n",
    "                                  n_estimators=100,\n",
    "                                  random_state=1)\n",
    "\n",
    "\n",
    "\n"
   ]
  },
  {
   "cell_type": "code",
   "execution_count": 17,
   "id": "greek-egypt",
   "metadata": {},
   "outputs": [
    {
     "data": {
      "text/plain": [
       "GradientBoostingClassifier(learning_rate=0.25, random_state=1)"
      ]
     },
     "execution_count": 17,
     "metadata": {},
     "output_type": "execute_result"
    }
   ],
   "source": [
    "gdbr.fit(X_train, y_train)"
   ]
  },
  {
   "cell_type": "code",
   "execution_count": 13,
   "id": "static-failing",
   "metadata": {},
   "outputs": [
    {
     "data": {
      "text/plain": [
       "0.7898"
      ]
     },
     "execution_count": 13,
     "metadata": {},
     "output_type": "execute_result"
    }
   ],
   "source": [
    "gdbr.score(X_test, y_test)"
   ]
  },
  {
   "cell_type": "code",
   "execution_count": null,
   "id": "surprised-found",
   "metadata": {},
   "outputs": [],
   "source": [
    "np.mean(gdbr.train_score_)"
   ]
  },
  {
   "cell_type": "code",
   "execution_count": null,
   "id": "abandoned-scout",
   "metadata": {},
   "outputs": [],
   "source": [
    "for i in X:\n",
    "    print('{predictor} has an importance of {importance}'.{predictor=i, \n",
    "                                                          importance=gdbr.feature_importances_})"
   ]
  },
  {
   "cell_type": "code",
   "execution_count": 19,
   "id": "willing-jungle",
   "metadata": {},
   "outputs": [],
   "source": [
    "\n",
    "\n",
    "grid = {'max_depth': [2,4,6],\n",
    "        'min_samples_split': [ 2, 4, 8]}\n",
    "\n",
    "gb_gridsearch = GridSearchCV(estimator=gdbr, param_grid=grid, \n",
    "                             cv=5, verbose=0, return_train_score=True,\n",
    "                            n_jobs = -1)\n",
    "\n",
    "gb_gridsearch.fit(X_train, y_train)\n",
    "\n",
    "# and after some hours...\n",
    "df_gridsearch = pd.DataFrame(gb_gridsearch.cv_results_)\n"
   ]
  },
  {
   "cell_type": "code",
   "execution_count": 20,
   "id": "other-seafood",
   "metadata": {},
   "outputs": [
    {
     "data": {
      "text/html": [
       "<div>\n",
       "<style scoped>\n",
       "    .dataframe tbody tr th:only-of-type {\n",
       "        vertical-align: middle;\n",
       "    }\n",
       "\n",
       "    .dataframe tbody tr th {\n",
       "        vertical-align: top;\n",
       "    }\n",
       "\n",
       "    .dataframe thead tr th {\n",
       "        text-align: left;\n",
       "    }\n",
       "\n",
       "    .dataframe thead tr:last-of-type th {\n",
       "        text-align: right;\n",
       "    }\n",
       "</style>\n",
       "<table border=\"1\" class=\"dataframe\">\n",
       "  <thead>\n",
       "    <tr>\n",
       "      <th></th>\n",
       "      <th colspan=\"3\" halign=\"left\">mean_test_score</th>\n",
       "      <th colspan=\"3\" halign=\"left\">mean_train_score</th>\n",
       "    </tr>\n",
       "    <tr>\n",
       "      <th>param_min_samples_split</th>\n",
       "      <th>2</th>\n",
       "      <th>4</th>\n",
       "      <th>8</th>\n",
       "      <th>2</th>\n",
       "      <th>4</th>\n",
       "      <th>8</th>\n",
       "    </tr>\n",
       "    <tr>\n",
       "      <th>param_max_depth</th>\n",
       "      <th></th>\n",
       "      <th></th>\n",
       "      <th></th>\n",
       "      <th></th>\n",
       "      <th></th>\n",
       "      <th></th>\n",
       "    </tr>\n",
       "  </thead>\n",
       "  <tbody>\n",
       "    <tr>\n",
       "      <th>2</th>\n",
       "      <td>0.790925</td>\n",
       "      <td>0.790925</td>\n",
       "      <td>0.790500</td>\n",
       "      <td>0.794162</td>\n",
       "      <td>0.794162</td>\n",
       "      <td>0.794106</td>\n",
       "    </tr>\n",
       "    <tr>\n",
       "      <th>4</th>\n",
       "      <td>0.793700</td>\n",
       "      <td>0.794250</td>\n",
       "      <td>0.793525</td>\n",
       "      <td>0.815231</td>\n",
       "      <td>0.815150</td>\n",
       "      <td>0.815025</td>\n",
       "    </tr>\n",
       "    <tr>\n",
       "      <th>6</th>\n",
       "      <td>0.789675</td>\n",
       "      <td>0.790200</td>\n",
       "      <td>0.790000</td>\n",
       "      <td>0.858437</td>\n",
       "      <td>0.857194</td>\n",
       "      <td>0.855925</td>\n",
       "    </tr>\n",
       "  </tbody>\n",
       "</table>\n",
       "</div>"
      ],
      "text/plain": [
       "                        mean_test_score                     mean_train_score  \\\n",
       "param_min_samples_split               2         4         8                2   \n",
       "param_max_depth                                                                \n",
       "2                              0.790925  0.790925  0.790500         0.794162   \n",
       "4                              0.793700  0.794250  0.793525         0.815231   \n",
       "6                              0.789675  0.790200  0.790000         0.858437   \n",
       "\n",
       "                                             \n",
       "param_min_samples_split         4         8  \n",
       "param_max_depth                              \n",
       "2                        0.794162  0.794106  \n",
       "4                        0.815150  0.815025  \n",
       "6                        0.857194  0.855925  "
      ]
     },
     "execution_count": 20,
     "metadata": {},
     "output_type": "execute_result"
    }
   ],
   "source": [
    "max_scores = df_gridsearch.groupby(['param_max_depth', \n",
    "                                    'param_min_samples_split']).max()  # it doesnt matter what this is, there is only one value\n",
    "\n",
    "max_scores = max_scores.unstack()[['mean_test_score', 'mean_train_score']]\n",
    "\n",
    "max_scores\n",
    "\n"
   ]
  },
  {
   "cell_type": "code",
   "execution_count": 22,
   "id": "lasting-tsunami",
   "metadata": {},
   "outputs": [
    {
     "data": {
      "image/png": "[encoded data removed]",
      "text/plain": [
       "<Figure size 432x288 with 2 Axes>"
      ]
     },
     "metadata": {
      "needs_background": "light"
     },
     "output_type": "display_data"
    }
   ],
   "source": [
    "sns.heatmap(max_scores.mean_test_score, annot=True, fmt='.4g');\n",
    "\n"
   ]
  },
  {
   "cell_type": "code",
   "execution_count": null,
   "id": "decreased-impression",
   "metadata": {},
   "outputs": [],
   "source": []
  }
 ],
 "metadata": {
  "kernelspec": {
   "display_name": "Python 3",
   "language": "python",
   "name": "python3"
  },
  "language_info": {
   "codemirror_mode": {
    "name": "ipython",
    "version": 3
   },
   "file_extension": ".py",
   "mimetype": "text/x-python",
   "name": "python",
   "nbconvert_exporter": "python",
   "pygments_lexer": "ipython3",
   "version": "3.9.1"
  }
 },
 "nbformat": 4,
 "nbformat_minor": 5
}
